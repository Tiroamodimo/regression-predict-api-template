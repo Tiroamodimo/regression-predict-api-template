{
  "nbformat": 4,
  "nbformat_minor": 0,
  "metadata": {
    "kernelspec": {
      "display_name": "Python 3",
      "language": "python",
      "name": "python3"
    },
    "language_info": {
      "codemirror_mode": {
        "name": "ipython",
        "version": 3
      },
      "file_extension": ".py",
      "mimetype": "text/x-python",
      "name": "python",
      "nbconvert_exporter": "python",
      "pygments_lexer": "ipython3",
      "version": "3.7.6"
    },
    "colab": {
      "name": "Predict_Regression_LM_v03.ipynb",
      "provenance": [],
      "include_colab_link": true
    }
  },
  "cells": [
    {
      "cell_type": "markdown",
      "metadata": {
        "id": "view-in-github",
        "colab_type": "text"
      },
      "source": [
        "<a href=\"https://colab.research.google.com/github/Tiroamodimo/regression-predict-api-template/blob/master/Predict_Regression_LM_v03.ipynb\" target=\"_parent\"><img src=\"https://colab.research.google.com/assets/colab-badge.svg\" alt=\"Open In Colab\"/></a>"
      ]
    },
    {
      "cell_type": "markdown",
      "metadata": {
        "id": "Lpl3cYsv5l2W",
        "colab_type": "text"
      },
      "source": [
        "# Problem Statement"
      ]
    },
    {
      "cell_type": "markdown",
      "metadata": {
        "id": "bibEgcAM5l2X",
        "colab_type": "text"
      },
      "source": [
        "#### Context\n",
        "**Economies are better when logistics is efficient and affordable**\n",
        "\n",
        "Sendy, in partnership with insight2impact facility, is hosting a Zindi challenge to predict the estimated time of delivery of orders, from the point of driver pickup to the point of arrival at final destination. \n",
        "Sendy helps men and women behind every type of business to trade easily, deliver more competitively, and build extraordinary businesses.\n",
        "\n",
        "#### Why Solve this problem?\n",
        "The solution will help Sendy enhance customer communication and improve the reliability of its service; which will ultimately improve customer experience. In addition, the solution will enable Sendy to realise cost savings, and ultimately reduce the cost of doing business, through improved resource management and planning for order scheduling.\n",
        "\n",
        "An accurate arrival time prediction will help all businesses to improve their logistics and communicate an accurate time to their customers. \n",
        "\n",
        "#### What will be done?\n",
        "Given the details of a Sendy order, historic data will be used to predict the time of arrival of a rider at the destination of a package as accurately as possible.\n",
        "\n",
        "#### How will this be done\n",
        "\n",
        "By building a linear regression model that predicts an accurate delivery time, from picking up a package to arriving at the final destination.\n"
      ]
    },
    {
      "cell_type": "markdown",
      "metadata": {
        "id": "NRmFIZOM5l2Z",
        "colab_type": "text"
      },
      "source": [
        "# 1. Data Pre-Processing"
      ]
    },
    {
      "cell_type": "markdown",
      "metadata": {
        "id": "GfmYSaIQ5l2b",
        "colab_type": "text"
      },
      "source": [
        "## 1.1 Load Libraries"
      ]
    },
    {
      "cell_type": "code",
      "metadata": {
        "id": "HpDSYeMP5l2d",
        "colab_type": "code",
        "colab": {}
      },
      "source": [
        "# Import modules\n",
        "import pandas as pd\n",
        "import matplotlib.pyplot as plt\n",
        "import seaborn as sns\n",
        "import os\n",
        "\n",
        "# Figures inline and set visualization style\n",
        "%matplotlib inline\n",
        "sns.set()"
      ],
      "execution_count": 0,
      "outputs": []
    },
    {
      "cell_type": "markdown",
      "metadata": {
        "id": "IJUVABN15l2n",
        "colab_type": "text"
      },
      "source": [
        "## 1.2 Check Datasets"
      ]
    },
    {
      "cell_type": "code",
      "metadata": {
        "id": "bwYGnelT5l2o",
        "colab_type": "code",
        "colab": {},
        "outputId": "45973bb9-68cc-41c8-caf4-1a2f252d33a5"
      },
      "source": [
        "# List all files in a directory using os.listdir\n",
        "basepath = 'Zindi Data/'\n",
        "for entry in os.listdir(basepath):\n",
        "    if os.path.isfile(os.path.join(basepath, entry)):\n",
        "        print(entry)"
      ],
      "execution_count": 0,
      "outputs": [
        {
          "output_type": "stream",
          "text": [
            "Test.csv\n",
            "SampleSubmission.csv\n",
            "Train.csv\n",
            "Riders.csv\n",
            "VariableDefinitions.csv\n"
          ],
          "name": "stdout"
        }
      ]
    },
    {
      "cell_type": "markdown",
      "metadata": {
        "id": "oaRCxpyX5l2v",
        "colab_type": "text"
      },
      "source": [
        "#### Check that all datasets are accounted for\n",
        "\n",
        "The files for download according to the hackathon:\n",
        "\n",
        "* `Train.csv` - is the dataset that you will use to train your model\n",
        "* `Test.csv` - is the dataset on which you will apply your model to.\n",
        "* `Riders.csv` - contains unique rider Ids, number of orders, age, rating and number of ratings\n",
        "* `VariableDefinitions.csv` - Definitions of variables in the Train, Test and Riders files\n",
        "\n",
        "The above files are accounted for.\n",
        "\n",
        "An additional file, `SampleSubmission.csv` was available for download as well\n"
      ]
    },
    {
      "cell_type": "markdown",
      "metadata": {
        "colab_type": "text",
        "id": "RopL7tUZSQkT"
      },
      "source": [
        "## 1.3 Import the datasets"
      ]
    },
    {
      "cell_type": "code",
      "metadata": {
        "id": "D0Np-G4J5l2x",
        "colab_type": "code",
        "colab": {}
      },
      "source": [
        "# import Datasets\n",
        "data_folder = 'Zindi Data/'\n",
        "\n",
        "train_df = pd.read_csv(data_folder + 'Train.csv')\n",
        "test_df = pd.read_csv(data_folder + 'Test.csv')\n",
        "riders_df = pd.read_csv(data_folder + 'Riders.csv')\n",
        "variable_definitions_df = pd.read_csv(data_folder + 'VariableDefinitions.csv', header=None,\n",
        "                                      names=['Variable', 'Definition'])\n",
        "sample_submission_df = pd.read_csv(data_folder + 'SampleSubmission.csv')"
      ],
      "execution_count": 0,
      "outputs": []
    },
    {
      "cell_type": "code",
      "metadata": {
        "scrolled": true,
        "id": "F-pURIDj5l24",
        "colab_type": "code",
        "colab": {},
        "outputId": "801c35e8-032f-4d6e-e09f-2e3424dc2773"
      },
      "source": [
        "# check training data\n",
        "train_df.head()"
      ],
      "execution_count": 0,
      "outputs": [
        {
          "output_type": "execute_result",
          "data": {
            "text/html": [
              "<div>\n",
              "<style scoped>\n",
              "    .dataframe tbody tr th:only-of-type {\n",
              "        vertical-align: middle;\n",
              "    }\n",
              "\n",
              "    .dataframe tbody tr th {\n",
              "        vertical-align: top;\n",
              "    }\n",
              "\n",
              "    .dataframe thead th {\n",
              "        text-align: right;\n",
              "    }\n",
              "</style>\n",
              "<table border=\"1\" class=\"dataframe\">\n",
              "  <thead>\n",
              "    <tr style=\"text-align: right;\">\n",
              "      <th></th>\n",
              "      <th>Order No</th>\n",
              "      <th>User Id</th>\n",
              "      <th>Vehicle Type</th>\n",
              "      <th>Platform Type</th>\n",
              "      <th>Personal or Business</th>\n",
              "      <th>Placement - Day of Month</th>\n",
              "      <th>Placement - Weekday (Mo = 1)</th>\n",
              "      <th>Placement - Time</th>\n",
              "      <th>Confirmation - Day of Month</th>\n",
              "      <th>Confirmation - Weekday (Mo = 1)</th>\n",
              "      <th>...</th>\n",
              "      <th>Arrival at Destination - Time</th>\n",
              "      <th>Distance (KM)</th>\n",
              "      <th>Temperature</th>\n",
              "      <th>Precipitation in millimeters</th>\n",
              "      <th>Pickup Lat</th>\n",
              "      <th>Pickup Long</th>\n",
              "      <th>Destination Lat</th>\n",
              "      <th>Destination Long</th>\n",
              "      <th>Rider Id</th>\n",
              "      <th>Time from Pickup to Arrival</th>\n",
              "    </tr>\n",
              "  </thead>\n",
              "  <tbody>\n",
              "    <tr>\n",
              "      <th>0</th>\n",
              "      <td>Order_No_4211</td>\n",
              "      <td>User_Id_633</td>\n",
              "      <td>Bike</td>\n",
              "      <td>3</td>\n",
              "      <td>Business</td>\n",
              "      <td>9</td>\n",
              "      <td>5</td>\n",
              "      <td>9:35:46 AM</td>\n",
              "      <td>9</td>\n",
              "      <td>5</td>\n",
              "      <td>...</td>\n",
              "      <td>10:39:55 AM</td>\n",
              "      <td>4</td>\n",
              "      <td>20.4</td>\n",
              "      <td>NaN</td>\n",
              "      <td>-1.317755</td>\n",
              "      <td>36.830370</td>\n",
              "      <td>-1.300406</td>\n",
              "      <td>36.829741</td>\n",
              "      <td>Rider_Id_432</td>\n",
              "      <td>745</td>\n",
              "    </tr>\n",
              "    <tr>\n",
              "      <th>1</th>\n",
              "      <td>Order_No_25375</td>\n",
              "      <td>User_Id_2285</td>\n",
              "      <td>Bike</td>\n",
              "      <td>3</td>\n",
              "      <td>Personal</td>\n",
              "      <td>12</td>\n",
              "      <td>5</td>\n",
              "      <td>11:16:16 AM</td>\n",
              "      <td>12</td>\n",
              "      <td>5</td>\n",
              "      <td>...</td>\n",
              "      <td>12:17:22 PM</td>\n",
              "      <td>16</td>\n",
              "      <td>26.4</td>\n",
              "      <td>NaN</td>\n",
              "      <td>-1.351453</td>\n",
              "      <td>36.899315</td>\n",
              "      <td>-1.295004</td>\n",
              "      <td>36.814358</td>\n",
              "      <td>Rider_Id_856</td>\n",
              "      <td>1993</td>\n",
              "    </tr>\n",
              "    <tr>\n",
              "      <th>2</th>\n",
              "      <td>Order_No_1899</td>\n",
              "      <td>User_Id_265</td>\n",
              "      <td>Bike</td>\n",
              "      <td>3</td>\n",
              "      <td>Business</td>\n",
              "      <td>30</td>\n",
              "      <td>2</td>\n",
              "      <td>12:39:25 PM</td>\n",
              "      <td>30</td>\n",
              "      <td>2</td>\n",
              "      <td>...</td>\n",
              "      <td>1:00:38 PM</td>\n",
              "      <td>3</td>\n",
              "      <td>NaN</td>\n",
              "      <td>NaN</td>\n",
              "      <td>-1.308284</td>\n",
              "      <td>36.843419</td>\n",
              "      <td>-1.300921</td>\n",
              "      <td>36.828195</td>\n",
              "      <td>Rider_Id_155</td>\n",
              "      <td>455</td>\n",
              "    </tr>\n",
              "    <tr>\n",
              "      <th>3</th>\n",
              "      <td>Order_No_9336</td>\n",
              "      <td>User_Id_1402</td>\n",
              "      <td>Bike</td>\n",
              "      <td>3</td>\n",
              "      <td>Business</td>\n",
              "      <td>15</td>\n",
              "      <td>5</td>\n",
              "      <td>9:25:34 AM</td>\n",
              "      <td>15</td>\n",
              "      <td>5</td>\n",
              "      <td>...</td>\n",
              "      <td>10:05:27 AM</td>\n",
              "      <td>9</td>\n",
              "      <td>19.2</td>\n",
              "      <td>NaN</td>\n",
              "      <td>-1.281301</td>\n",
              "      <td>36.832396</td>\n",
              "      <td>-1.257147</td>\n",
              "      <td>36.795063</td>\n",
              "      <td>Rider_Id_855</td>\n",
              "      <td>1341</td>\n",
              "    </tr>\n",
              "    <tr>\n",
              "      <th>4</th>\n",
              "      <td>Order_No_27883</td>\n",
              "      <td>User_Id_1737</td>\n",
              "      <td>Bike</td>\n",
              "      <td>1</td>\n",
              "      <td>Personal</td>\n",
              "      <td>13</td>\n",
              "      <td>1</td>\n",
              "      <td>9:55:18 AM</td>\n",
              "      <td>13</td>\n",
              "      <td>1</td>\n",
              "      <td>...</td>\n",
              "      <td>10:25:37 AM</td>\n",
              "      <td>9</td>\n",
              "      <td>15.4</td>\n",
              "      <td>NaN</td>\n",
              "      <td>-1.266597</td>\n",
              "      <td>36.792118</td>\n",
              "      <td>-1.295041</td>\n",
              "      <td>36.809817</td>\n",
              "      <td>Rider_Id_770</td>\n",
              "      <td>1214</td>\n",
              "    </tr>\n",
              "  </tbody>\n",
              "</table>\n",
              "<p>5 rows × 29 columns</p>\n",
              "</div>"
            ],
            "text/plain": [
              "         Order No       User Id Vehicle Type  Platform Type  \\\n",
              "0   Order_No_4211   User_Id_633         Bike              3   \n",
              "1  Order_No_25375  User_Id_2285         Bike              3   \n",
              "2   Order_No_1899   User_Id_265         Bike              3   \n",
              "3   Order_No_9336  User_Id_1402         Bike              3   \n",
              "4  Order_No_27883  User_Id_1737         Bike              1   \n",
              "\n",
              "  Personal or Business  Placement - Day of Month  \\\n",
              "0             Business                         9   \n",
              "1             Personal                        12   \n",
              "2             Business                        30   \n",
              "3             Business                        15   \n",
              "4             Personal                        13   \n",
              "\n",
              "   Placement - Weekday (Mo = 1) Placement - Time  Confirmation - Day of Month  \\\n",
              "0                             5       9:35:46 AM                            9   \n",
              "1                             5      11:16:16 AM                           12   \n",
              "2                             2      12:39:25 PM                           30   \n",
              "3                             5       9:25:34 AM                           15   \n",
              "4                             1       9:55:18 AM                           13   \n",
              "\n",
              "   Confirmation - Weekday (Mo = 1)  ... Arrival at Destination - Time  \\\n",
              "0                                5  ...                   10:39:55 AM   \n",
              "1                                5  ...                   12:17:22 PM   \n",
              "2                                2  ...                    1:00:38 PM   \n",
              "3                                5  ...                   10:05:27 AM   \n",
              "4                                1  ...                   10:25:37 AM   \n",
              "\n",
              "   Distance (KM)  Temperature Precipitation in millimeters  Pickup Lat  \\\n",
              "0              4         20.4                          NaN   -1.317755   \n",
              "1             16         26.4                          NaN   -1.351453   \n",
              "2              3          NaN                          NaN   -1.308284   \n",
              "3              9         19.2                          NaN   -1.281301   \n",
              "4              9         15.4                          NaN   -1.266597   \n",
              "\n",
              "   Pickup Long Destination Lat  Destination Long      Rider Id  \\\n",
              "0    36.830370       -1.300406         36.829741  Rider_Id_432   \n",
              "1    36.899315       -1.295004         36.814358  Rider_Id_856   \n",
              "2    36.843419       -1.300921         36.828195  Rider_Id_155   \n",
              "3    36.832396       -1.257147         36.795063  Rider_Id_855   \n",
              "4    36.792118       -1.295041         36.809817  Rider_Id_770   \n",
              "\n",
              "  Time from Pickup to Arrival  \n",
              "0                         745  \n",
              "1                        1993  \n",
              "2                         455  \n",
              "3                        1341  \n",
              "4                        1214  \n",
              "\n",
              "[5 rows x 29 columns]"
            ]
          },
          "metadata": {
            "tags": []
          },
          "execution_count": 4
        }
      ]
    },
    {
      "cell_type": "code",
      "metadata": {
        "id": "JIrlooeE5l2-",
        "colab_type": "code",
        "colab": {},
        "outputId": "845ba209-cd67-4962-f204-38369df16c1a"
      },
      "source": [
        "# check test data\n",
        "test_df.head()"
      ],
      "execution_count": 0,
      "outputs": [
        {
          "output_type": "execute_result",
          "data": {
            "text/html": [
              "<div>\n",
              "<style scoped>\n",
              "    .dataframe tbody tr th:only-of-type {\n",
              "        vertical-align: middle;\n",
              "    }\n",
              "\n",
              "    .dataframe tbody tr th {\n",
              "        vertical-align: top;\n",
              "    }\n",
              "\n",
              "    .dataframe thead th {\n",
              "        text-align: right;\n",
              "    }\n",
              "</style>\n",
              "<table border=\"1\" class=\"dataframe\">\n",
              "  <thead>\n",
              "    <tr style=\"text-align: right;\">\n",
              "      <th></th>\n",
              "      <th>Order No</th>\n",
              "      <th>User Id</th>\n",
              "      <th>Vehicle Type</th>\n",
              "      <th>Platform Type</th>\n",
              "      <th>Personal or Business</th>\n",
              "      <th>Placement - Day of Month</th>\n",
              "      <th>Placement - Weekday (Mo = 1)</th>\n",
              "      <th>Placement - Time</th>\n",
              "      <th>Confirmation - Day of Month</th>\n",
              "      <th>Confirmation - Weekday (Mo = 1)</th>\n",
              "      <th>...</th>\n",
              "      <th>Pickup - Weekday (Mo = 1)</th>\n",
              "      <th>Pickup - Time</th>\n",
              "      <th>Distance (KM)</th>\n",
              "      <th>Temperature</th>\n",
              "      <th>Precipitation in millimeters</th>\n",
              "      <th>Pickup Lat</th>\n",
              "      <th>Pickup Long</th>\n",
              "      <th>Destination Lat</th>\n",
              "      <th>Destination Long</th>\n",
              "      <th>Rider Id</th>\n",
              "    </tr>\n",
              "  </thead>\n",
              "  <tbody>\n",
              "    <tr>\n",
              "      <th>0</th>\n",
              "      <td>Order_No_19248</td>\n",
              "      <td>User_Id_3355</td>\n",
              "      <td>Bike</td>\n",
              "      <td>3</td>\n",
              "      <td>Business</td>\n",
              "      <td>27</td>\n",
              "      <td>3</td>\n",
              "      <td>4:44:10 PM</td>\n",
              "      <td>27</td>\n",
              "      <td>3</td>\n",
              "      <td>...</td>\n",
              "      <td>3</td>\n",
              "      <td>5:06:47 PM</td>\n",
              "      <td>8</td>\n",
              "      <td>NaN</td>\n",
              "      <td>NaN</td>\n",
              "      <td>-1.333275</td>\n",
              "      <td>36.870815</td>\n",
              "      <td>-1.305249</td>\n",
              "      <td>36.822390</td>\n",
              "      <td>Rider_Id_192</td>\n",
              "    </tr>\n",
              "    <tr>\n",
              "      <th>1</th>\n",
              "      <td>Order_No_12736</td>\n",
              "      <td>User_Id_3647</td>\n",
              "      <td>Bike</td>\n",
              "      <td>3</td>\n",
              "      <td>Business</td>\n",
              "      <td>17</td>\n",
              "      <td>5</td>\n",
              "      <td>12:57:35 PM</td>\n",
              "      <td>17</td>\n",
              "      <td>5</td>\n",
              "      <td>...</td>\n",
              "      <td>5</td>\n",
              "      <td>1:25:37 PM</td>\n",
              "      <td>5</td>\n",
              "      <td>NaN</td>\n",
              "      <td>NaN</td>\n",
              "      <td>-1.272639</td>\n",
              "      <td>36.794723</td>\n",
              "      <td>-1.277007</td>\n",
              "      <td>36.823907</td>\n",
              "      <td>Rider_Id_868</td>\n",
              "    </tr>\n",
              "    <tr>\n",
              "      <th>2</th>\n",
              "      <td>Order_No_768</td>\n",
              "      <td>User_Id_2154</td>\n",
              "      <td>Bike</td>\n",
              "      <td>3</td>\n",
              "      <td>Business</td>\n",
              "      <td>27</td>\n",
              "      <td>4</td>\n",
              "      <td>11:08:14 AM</td>\n",
              "      <td>27</td>\n",
              "      <td>4</td>\n",
              "      <td>...</td>\n",
              "      <td>4</td>\n",
              "      <td>11:57:54 AM</td>\n",
              "      <td>5</td>\n",
              "      <td>22.8</td>\n",
              "      <td>NaN</td>\n",
              "      <td>-1.290894</td>\n",
              "      <td>36.822971</td>\n",
              "      <td>-1.276574</td>\n",
              "      <td>36.851365</td>\n",
              "      <td>Rider_Id_26</td>\n",
              "    </tr>\n",
              "    <tr>\n",
              "      <th>3</th>\n",
              "      <td>Order_No_15332</td>\n",
              "      <td>User_Id_2910</td>\n",
              "      <td>Bike</td>\n",
              "      <td>3</td>\n",
              "      <td>Business</td>\n",
              "      <td>17</td>\n",
              "      <td>1</td>\n",
              "      <td>1:51:35 PM</td>\n",
              "      <td>17</td>\n",
              "      <td>1</td>\n",
              "      <td>...</td>\n",
              "      <td>1</td>\n",
              "      <td>2:16:52 PM</td>\n",
              "      <td>5</td>\n",
              "      <td>24.5</td>\n",
              "      <td>NaN</td>\n",
              "      <td>-1.290503</td>\n",
              "      <td>36.809646</td>\n",
              "      <td>-1.303382</td>\n",
              "      <td>36.790658</td>\n",
              "      <td>Rider_Id_685</td>\n",
              "    </tr>\n",
              "    <tr>\n",
              "      <th>4</th>\n",
              "      <td>Order_No_21373</td>\n",
              "      <td>User_Id_1205</td>\n",
              "      <td>Bike</td>\n",
              "      <td>3</td>\n",
              "      <td>Business</td>\n",
              "      <td>11</td>\n",
              "      <td>2</td>\n",
              "      <td>11:30:28 AM</td>\n",
              "      <td>11</td>\n",
              "      <td>2</td>\n",
              "      <td>...</td>\n",
              "      <td>2</td>\n",
              "      <td>11:56:04 AM</td>\n",
              "      <td>6</td>\n",
              "      <td>24.4</td>\n",
              "      <td>NaN</td>\n",
              "      <td>-1.281081</td>\n",
              "      <td>36.814423</td>\n",
              "      <td>-1.266467</td>\n",
              "      <td>36.792161</td>\n",
              "      <td>Rider_Id_858</td>\n",
              "    </tr>\n",
              "  </tbody>\n",
              "</table>\n",
              "<p>5 rows × 25 columns</p>\n",
              "</div>"
            ],
            "text/plain": [
              "         Order No       User Id Vehicle Type  Platform Type  \\\n",
              "0  Order_No_19248  User_Id_3355         Bike              3   \n",
              "1  Order_No_12736  User_Id_3647         Bike              3   \n",
              "2    Order_No_768  User_Id_2154         Bike              3   \n",
              "3  Order_No_15332  User_Id_2910         Bike              3   \n",
              "4  Order_No_21373  User_Id_1205         Bike              3   \n",
              "\n",
              "  Personal or Business  Placement - Day of Month  \\\n",
              "0             Business                        27   \n",
              "1             Business                        17   \n",
              "2             Business                        27   \n",
              "3             Business                        17   \n",
              "4             Business                        11   \n",
              "\n",
              "   Placement - Weekday (Mo = 1) Placement - Time  Confirmation - Day of Month  \\\n",
              "0                             3       4:44:10 PM                           27   \n",
              "1                             5      12:57:35 PM                           17   \n",
              "2                             4      11:08:14 AM                           27   \n",
              "3                             1       1:51:35 PM                           17   \n",
              "4                             2      11:30:28 AM                           11   \n",
              "\n",
              "   Confirmation - Weekday (Mo = 1)  ... Pickup - Weekday (Mo = 1)  \\\n",
              "0                                3  ...                         3   \n",
              "1                                5  ...                         5   \n",
              "2                                4  ...                         4   \n",
              "3                                1  ...                         1   \n",
              "4                                2  ...                         2   \n",
              "\n",
              "   Pickup - Time  Distance (KM) Temperature  Precipitation in millimeters  \\\n",
              "0     5:06:47 PM              8         NaN                           NaN   \n",
              "1     1:25:37 PM              5         NaN                           NaN   \n",
              "2    11:57:54 AM              5        22.8                           NaN   \n",
              "3     2:16:52 PM              5        24.5                           NaN   \n",
              "4    11:56:04 AM              6        24.4                           NaN   \n",
              "\n",
              "   Pickup Lat Pickup Long  Destination Lat  Destination Long      Rider Id  \n",
              "0   -1.333275   36.870815        -1.305249         36.822390  Rider_Id_192  \n",
              "1   -1.272639   36.794723        -1.277007         36.823907  Rider_Id_868  \n",
              "2   -1.290894   36.822971        -1.276574         36.851365   Rider_Id_26  \n",
              "3   -1.290503   36.809646        -1.303382         36.790658  Rider_Id_685  \n",
              "4   -1.281081   36.814423        -1.266467         36.792161  Rider_Id_858  \n",
              "\n",
              "[5 rows x 25 columns]"
            ]
          },
          "metadata": {
            "tags": []
          },
          "execution_count": 5
        }
      ]
    },
    {
      "cell_type": "code",
      "metadata": {
        "id": "t0C66A8J5l3E",
        "colab_type": "code",
        "colab": {},
        "outputId": "db23b768-6f9e-4c14-a29a-a525838262da"
      },
      "source": [
        "# check riders\n",
        "riders_df.head()"
      ],
      "execution_count": 0,
      "outputs": [
        {
          "output_type": "execute_result",
          "data": {
            "text/html": [
              "<div>\n",
              "<style scoped>\n",
              "    .dataframe tbody tr th:only-of-type {\n",
              "        vertical-align: middle;\n",
              "    }\n",
              "\n",
              "    .dataframe tbody tr th {\n",
              "        vertical-align: top;\n",
              "    }\n",
              "\n",
              "    .dataframe thead th {\n",
              "        text-align: right;\n",
              "    }\n",
              "</style>\n",
              "<table border=\"1\" class=\"dataframe\">\n",
              "  <thead>\n",
              "    <tr style=\"text-align: right;\">\n",
              "      <th></th>\n",
              "      <th>Rider Id</th>\n",
              "      <th>No_Of_Orders</th>\n",
              "      <th>Age</th>\n",
              "      <th>Average_Rating</th>\n",
              "      <th>No_of_Ratings</th>\n",
              "    </tr>\n",
              "  </thead>\n",
              "  <tbody>\n",
              "    <tr>\n",
              "      <th>0</th>\n",
              "      <td>Rider_Id_396</td>\n",
              "      <td>2946</td>\n",
              "      <td>2298</td>\n",
              "      <td>14.0</td>\n",
              "      <td>1159</td>\n",
              "    </tr>\n",
              "    <tr>\n",
              "      <th>1</th>\n",
              "      <td>Rider_Id_479</td>\n",
              "      <td>360</td>\n",
              "      <td>951</td>\n",
              "      <td>13.5</td>\n",
              "      <td>176</td>\n",
              "    </tr>\n",
              "    <tr>\n",
              "      <th>2</th>\n",
              "      <td>Rider_Id_648</td>\n",
              "      <td>1746</td>\n",
              "      <td>821</td>\n",
              "      <td>14.3</td>\n",
              "      <td>466</td>\n",
              "    </tr>\n",
              "    <tr>\n",
              "      <th>3</th>\n",
              "      <td>Rider_Id_753</td>\n",
              "      <td>314</td>\n",
              "      <td>980</td>\n",
              "      <td>12.5</td>\n",
              "      <td>75</td>\n",
              "    </tr>\n",
              "    <tr>\n",
              "      <th>4</th>\n",
              "      <td>Rider_Id_335</td>\n",
              "      <td>536</td>\n",
              "      <td>1113</td>\n",
              "      <td>13.7</td>\n",
              "      <td>156</td>\n",
              "    </tr>\n",
              "  </tbody>\n",
              "</table>\n",
              "</div>"
            ],
            "text/plain": [
              "       Rider Id  No_Of_Orders   Age  Average_Rating  No_of_Ratings\n",
              "0  Rider_Id_396          2946  2298            14.0           1159\n",
              "1  Rider_Id_479           360   951            13.5            176\n",
              "2  Rider_Id_648          1746   821            14.3            466\n",
              "3  Rider_Id_753           314   980            12.5             75\n",
              "4  Rider_Id_335           536  1113            13.7            156"
            ]
          },
          "metadata": {
            "tags": []
          },
          "execution_count": 6
        }
      ]
    },
    {
      "cell_type": "code",
      "metadata": {
        "id": "k-Th7mY55l3I",
        "colab_type": "code",
        "colab": {},
        "outputId": "f189b098-f9c4-4434-89eb-e006f0cd36c6"
      },
      "source": [
        "# Check variable definitions\n",
        "variable_definitions_df.head()"
      ],
      "execution_count": 0,
      "outputs": [
        {
          "output_type": "execute_result",
          "data": {
            "text/html": [
              "<div>\n",
              "<style scoped>\n",
              "    .dataframe tbody tr th:only-of-type {\n",
              "        vertical-align: middle;\n",
              "    }\n",
              "\n",
              "    .dataframe tbody tr th {\n",
              "        vertical-align: top;\n",
              "    }\n",
              "\n",
              "    .dataframe thead th {\n",
              "        text-align: right;\n",
              "    }\n",
              "</style>\n",
              "<table border=\"1\" class=\"dataframe\">\n",
              "  <thead>\n",
              "    <tr style=\"text-align: right;\">\n",
              "      <th></th>\n",
              "      <th>Variable</th>\n",
              "      <th>Definition</th>\n",
              "    </tr>\n",
              "  </thead>\n",
              "  <tbody>\n",
              "    <tr>\n",
              "      <th>0</th>\n",
              "      <td>Order No</td>\n",
              "      <td>Unique number identifying the order</td>\n",
              "    </tr>\n",
              "    <tr>\n",
              "      <th>1</th>\n",
              "      <td>User Id</td>\n",
              "      <td>Unique number identifying the customer on a pl...</td>\n",
              "    </tr>\n",
              "    <tr>\n",
              "      <th>2</th>\n",
              "      <td>Vehicle Type</td>\n",
              "      <td>For this competition limited to bikes, however...</td>\n",
              "    </tr>\n",
              "    <tr>\n",
              "      <th>3</th>\n",
              "      <td>Platform Type</td>\n",
              "      <td>Platform used to place the order, there are 4 ...</td>\n",
              "    </tr>\n",
              "    <tr>\n",
              "      <th>4</th>\n",
              "      <td>Personal or Business</td>\n",
              "      <td>Customer type</td>\n",
              "    </tr>\n",
              "  </tbody>\n",
              "</table>\n",
              "</div>"
            ],
            "text/plain": [
              "               Variable                                         Definition\n",
              "0              Order No                Unique number identifying the order\n",
              "1               User Id  Unique number identifying the customer on a pl...\n",
              "2          Vehicle Type  For this competition limited to bikes, however...\n",
              "3         Platform Type  Platform used to place the order, there are 4 ...\n",
              "4  Personal or Business                                      Customer type"
            ]
          },
          "metadata": {
            "tags": []
          },
          "execution_count": 7
        }
      ]
    },
    {
      "cell_type": "code",
      "metadata": {
        "scrolled": true,
        "id": "YWRUU_z35l3M",
        "colab_type": "code",
        "colab": {},
        "outputId": "52f30928-ef68-4fb7-84ed-36a09ff8b8ce"
      },
      "source": [
        "# check sample submission\n",
        "sample_submission_df.head()"
      ],
      "execution_count": 0,
      "outputs": [
        {
          "output_type": "execute_result",
          "data": {
            "text/html": [
              "<div>\n",
              "<style scoped>\n",
              "    .dataframe tbody tr th:only-of-type {\n",
              "        vertical-align: middle;\n",
              "    }\n",
              "\n",
              "    .dataframe tbody tr th {\n",
              "        vertical-align: top;\n",
              "    }\n",
              "\n",
              "    .dataframe thead th {\n",
              "        text-align: right;\n",
              "    }\n",
              "</style>\n",
              "<table border=\"1\" class=\"dataframe\">\n",
              "  <thead>\n",
              "    <tr style=\"text-align: right;\">\n",
              "      <th></th>\n",
              "      <th>Order_No</th>\n",
              "      <th>Time from Pickup to Arrival</th>\n",
              "    </tr>\n",
              "  </thead>\n",
              "  <tbody>\n",
              "    <tr>\n",
              "      <th>0</th>\n",
              "      <td>Order_No_19248</td>\n",
              "      <td>567.0</td>\n",
              "    </tr>\n",
              "    <tr>\n",
              "      <th>1</th>\n",
              "      <td>Order_No_12736</td>\n",
              "      <td>4903.0</td>\n",
              "    </tr>\n",
              "    <tr>\n",
              "      <th>2</th>\n",
              "      <td>Order_No_768</td>\n",
              "      <td>5649.0</td>\n",
              "    </tr>\n",
              "    <tr>\n",
              "      <th>3</th>\n",
              "      <td>Order_No_15332</td>\n",
              "      <td>NaN</td>\n",
              "    </tr>\n",
              "    <tr>\n",
              "      <th>4</th>\n",
              "      <td>Order_No_21373</td>\n",
              "      <td>NaN</td>\n",
              "    </tr>\n",
              "  </tbody>\n",
              "</table>\n",
              "</div>"
            ],
            "text/plain": [
              "         Order_No  Time from Pickup to Arrival\n",
              "0  Order_No_19248                        567.0\n",
              "1  Order_No_12736                       4903.0\n",
              "2    Order_No_768                       5649.0\n",
              "3  Order_No_15332                          NaN\n",
              "4  Order_No_21373                          NaN"
            ]
          },
          "metadata": {
            "tags": []
          },
          "execution_count": 8
        }
      ]
    },
    {
      "cell_type": "markdown",
      "metadata": {
        "id": "aAeAipoA5l3R",
        "colab_type": "text"
      },
      "source": [
        "#### Prelimenary observation\n",
        "Based on DataFrame previews it can be assumed that of all data were successfully imported. the following data will form part of the regression analysis:\n",
        "* `train_df`\n",
        "* `test_df`\n",
        "* `riders_df`\n",
        "\n",
        "`variable_definitions_df` privides definitions of the variables\n",
        "\n",
        "`sample_submission_df` is a template for the submission of model predictions for this project"
      ]
    },
    {
      "cell_type": "markdown",
      "metadata": {
        "id": "pfDvlBie5l3R",
        "colab_type": "text"
      },
      "source": [
        "## 1.4 Assess Data"
      ]
    },
    {
      "cell_type": "markdown",
      "metadata": {
        "id": "g1JT83Px5l3T",
        "colab_type": "text"
      },
      "source": [
        "### 1.4.1 Assess variable definitions"
      ]
    },
    {
      "cell_type": "code",
      "metadata": {
        "id": "q--H9Xw85l3U",
        "colab_type": "code",
        "colab": {}
      },
      "source": [
        "merged_train_rider = pd.merge(train_df, riders_df, on='Rider Id')\n",
        "merged_test_rider = pd.merge(test_df, riders_df, on='Rider Id')"
      ],
      "execution_count": 0,
      "outputs": []
    },
    {
      "cell_type": "code",
      "metadata": {
        "id": "rMds2tEf5l3Y",
        "colab_type": "code",
        "colab": {},
        "outputId": "2443a6dd-133a-49b3-8731-4ff5c0ec0b0d"
      },
      "source": [
        "merged_train_rider_cols = pd.DataFrame(merged_train_rider.dtypes, columns=['Dtype'])\n",
        "merged_train_rider_cols.index = merged_train_rider_cols.index.rename(name='Variable')\n",
        "Variables_Table = pd.merge(variable_definitions_df, merged_train_rider_cols, on='Variable')\n",
        "Variables_Table.head()"
      ],
      "execution_count": 0,
      "outputs": [
        {
          "output_type": "execute_result",
          "data": {
            "text/html": [
              "<div>\n",
              "<style scoped>\n",
              "    .dataframe tbody tr th:only-of-type {\n",
              "        vertical-align: middle;\n",
              "    }\n",
              "\n",
              "    .dataframe tbody tr th {\n",
              "        vertical-align: top;\n",
              "    }\n",
              "\n",
              "    .dataframe thead th {\n",
              "        text-align: right;\n",
              "    }\n",
              "</style>\n",
              "<table border=\"1\" class=\"dataframe\">\n",
              "  <thead>\n",
              "    <tr style=\"text-align: right;\">\n",
              "      <th></th>\n",
              "      <th>Variable</th>\n",
              "      <th>Definition</th>\n",
              "      <th>Dtype</th>\n",
              "    </tr>\n",
              "  </thead>\n",
              "  <tbody>\n",
              "    <tr>\n",
              "      <th>0</th>\n",
              "      <td>Order No</td>\n",
              "      <td>Unique number identifying the order</td>\n",
              "      <td>object</td>\n",
              "    </tr>\n",
              "    <tr>\n",
              "      <th>1</th>\n",
              "      <td>User Id</td>\n",
              "      <td>Unique number identifying the customer on a pl...</td>\n",
              "      <td>object</td>\n",
              "    </tr>\n",
              "    <tr>\n",
              "      <th>2</th>\n",
              "      <td>Vehicle Type</td>\n",
              "      <td>For this competition limited to bikes, however...</td>\n",
              "      <td>object</td>\n",
              "    </tr>\n",
              "    <tr>\n",
              "      <th>3</th>\n",
              "      <td>Platform Type</td>\n",
              "      <td>Platform used to place the order, there are 4 ...</td>\n",
              "      <td>int64</td>\n",
              "    </tr>\n",
              "    <tr>\n",
              "      <th>4</th>\n",
              "      <td>Personal or Business</td>\n",
              "      <td>Customer type</td>\n",
              "      <td>object</td>\n",
              "    </tr>\n",
              "  </tbody>\n",
              "</table>\n",
              "</div>"
            ],
            "text/plain": [
              "               Variable                                         Definition  \\\n",
              "0              Order No                Unique number identifying the order   \n",
              "1               User Id  Unique number identifying the customer on a pl...   \n",
              "2          Vehicle Type  For this competition limited to bikes, however...   \n",
              "3         Platform Type  Platform used to place the order, there are 4 ...   \n",
              "4  Personal or Business                                      Customer type   \n",
              "\n",
              "    Dtype  \n",
              "0  object  \n",
              "1  object  \n",
              "2  object  \n",
              "3   int64  \n",
              "4  object  "
            ]
          },
          "metadata": {
            "tags": []
          },
          "execution_count": 10
        }
      ]
    },
    {
      "cell_type": "code",
      "metadata": {
        "id": "b2EcjOID5l3c",
        "colab_type": "code",
        "colab": {},
        "outputId": "26d66dbe-c64a-4fb0-c0f3-19206bfb45a8"
      },
      "source": [
        "# Get variable definitions\n",
        "print(f'Number of variables: {len(Variables_Table)}\\n',\n",
        "     '======================================= \\n')\n",
        "for var, definition, datatype in Variables_Table.values:\n",
        "    print(f'{var}\\ndata type:{datatype}\\nDef:{definition}\\n')"
      ],
      "execution_count": 0,
      "outputs": [
        {
          "output_type": "stream",
          "text": [
            "Number of variables: 34\n",
            " ======================================= \n",
            "\n",
            "Order No\n",
            "data type:object\n",
            "Def:Unique number identifying the order\n",
            "\n",
            "User Id\n",
            "data type:object\n",
            "Def:Unique number identifying the customer on a platform\n",
            "\n",
            "Vehicle Type\n",
            "data type:object\n",
            "Def:For this competition limited to bikes, however in practice Sendy service extends to trucks and vans\n",
            "\n",
            "Platform Type\n",
            "data type:int64\n",
            "Def:Platform used to place the order, there are 4 types\n",
            "\n",
            "Personal or Business\n",
            "data type:object\n",
            "Def:Customer type\n",
            "\n",
            "Placement - Day of Month\n",
            "data type:int64\n",
            "Def:Placement - Day of Month i.e 1-31\n",
            "\n",
            "Placement - Weekday (Mo = 1)\n",
            "data type:int64\n",
            "Def:Placement - Weekday (Monday = 1)\n",
            "\n",
            "Placement - Time\n",
            "data type:object\n",
            "Def:Placement - Time - Time of day the order was placed\n",
            "\n",
            "Confirmation - Day of Month\n",
            "data type:int64\n",
            "Def:Confirmation - Day of Month i.e 1-31\n",
            "\n",
            "Confirmation - Weekday (Mo = 1)\n",
            "data type:int64\n",
            "Def:Confirmation - Weekday (Monday = 1)\n",
            "\n",
            "Confirmation - Time\n",
            "data type:object\n",
            "Def:Confirmation - Time - Time of day the order was confirmed by a rider\n",
            "\n",
            "Arrival at Pickup - Day of Month\n",
            "data type:int64\n",
            "Def:Arrival at Pickup - Day of Month i.e 1-31\n",
            "\n",
            "Arrival at Pickup - Weekday (Mo = 1)\n",
            "data type:int64\n",
            "Def:Arrival at Pickup - Weekday (Monday = 1)\n",
            "\n",
            "Arrival at Pickup - Time\n",
            "data type:object\n",
            "Def:Time of day the the rider arrived at the location to pick up the order - as marked by the rider through the Sendy application\n",
            "\n",
            "Pickup - Day of Month\n",
            "data type:int64\n",
            "Def:Pickup - Day of Month i.e 1-31\n",
            "\n",
            "Pickup - Weekday (Mo = 1)\n",
            "data type:int64\n",
            "Def:Pickup - Weekday (Monday = 1)\n",
            "\n",
            "Pickup - Time\n",
            "data type:object\n",
            "Def:Pickup - Time - Time of day the the rider picked up the order - as marked by the rider through the Sendy application\n",
            "\n",
            "Arrival at Destination - Day of Month\n",
            "data type:int64\n",
            "Def:Arrival at Delivery - Day of Month i.e 1-31\n",
            "\n",
            "Arrival at Destination - Weekday (Mo = 1)\n",
            "data type:int64\n",
            "Def:Arrival at Delivery - Weekday (Monday = 1)\n",
            "\n",
            "Arrival at Destination - Time\n",
            "data type:object\n",
            "Def:Arrival at Delivery Time - Time of day the rider arrived at the destination to deliver the order - as marked by the rider through the Sendy application\n",
            "\n",
            "Distance (KM)\n",
            "data type:int64\n",
            "Def:The distance from Pickup to Destination\n",
            "\n",
            "Temperature\n",
            "data type:float64\n",
            "Def:Temperature at the time of order placement in Degrees Celsius (measured every three hours)\n",
            "\n",
            "Precipitation in millimeters\n",
            "data type:float64\n",
            "Def: Precipitation at the time of order placement (measured every three hours)\n",
            "\n",
            "Pickup Lat\n",
            "data type:float64\n",
            "Def:Latitude of pick up location\n",
            "\n",
            "Pickup Long\n",
            "data type:float64\n",
            "Def:Longitude of pick up location\n",
            "\n",
            "Destination Lat\n",
            "data type:float64\n",
            "Def:Latitude of delivery location\n",
            "\n",
            "Destination Long\n",
            "data type:float64\n",
            "Def:Longitude of delivery location\n",
            "\n",
            "Rider Id\n",
            "data type:object\n",
            "Def: ID of the Rider who accepted the order\n",
            "\n",
            "Rider Id\n",
            "data type:object\n",
            "Def:Unique number identifying the rider (same as in order details)\n",
            "\n",
            "Time from Pickup to Arrival\n",
            "data type:int64\n",
            "Def:Time in seconds between 'Pickup' and 'Arrival at Destination' - calculated from the columns for the purpose of facilitating the task\n",
            "\n",
            "No_Of_Orders\n",
            "data type:int64\n",
            "Def: Number of Orders the rider has delivered\n",
            "\n",
            "Age\n",
            "data type:int64\n",
            "Def:Number of days since the rider delivered the first order\n",
            "\n",
            "Average_Rating\n",
            "data type:float64\n",
            "Def:Average rating of the rider\n",
            "\n",
            "No_of_Ratings\n",
            "data type:int64\n",
            "Def: Number of ratings the rider has received. Rating an order is optional for the customer.\n",
            "\n"
          ],
          "name": "stdout"
        }
      ]
    },
    {
      "cell_type": "markdown",
      "metadata": {
        "id": "LyQIvFC55l3j",
        "colab_type": "text"
      },
      "source": [
        "#### Conclusion from Definitions\n",
        "* Per definition, the platform type should be non-numerical\n",
        "* Per definition, All Days should be non-numerical\n",
        "    * Weekday\n",
        "    * Day of Month"
      ]
    },
    {
      "cell_type": "markdown",
      "metadata": {
        "id": "bKccln9P5l3k",
        "colab_type": "text"
      },
      "source": [
        "### 1.4.2 Change Variable Types"
      ]
    },
    {
      "cell_type": "code",
      "metadata": {
        "id": "aZGj5qzn5l3k",
        "colab_type": "code",
        "colab": {}
      },
      "source": [
        "# create copy of dataframes to change variable types\n",
        "merged_train_rider_dtype = merged_train_rider.copy()\n",
        "merged_test_rider_dtype = merged_test_rider.copy()"
      ],
      "execution_count": 0,
      "outputs": []
    },
    {
      "cell_type": "code",
      "metadata": {
        "id": "oiAAhJCk5l3o",
        "colab_type": "code",
        "colab": {}
      },
      "source": [
        "# list of variables to make non-numeric\n",
        "non_num_list_train = ['Placement - Day of Month', 'Placement - Weekday (Mo = 1)',\n",
        "                'Confirmation - Day of Month', 'Confirmation - Weekday (Mo = 1)',\n",
        "                'Arrival at Pickup - Day of Month','Arrival at Pickup - Weekday (Mo = 1)',\n",
        "                'Pickup - Day of Month', 'Pickup - Weekday (Mo = 1)',\n",
        "                'Arrival at Destination - Day of Month',\n",
        "                'Arrival at Destination - Weekday (Mo = 1)', 'Platform Type']\n",
        "\n",
        "non_num_list_test = ['Placement - Day of Month', 'Placement - Weekday (Mo = 1)',\n",
        "                'Confirmation - Day of Month', 'Confirmation - Weekday (Mo = 1)',\n",
        "                'Arrival at Pickup - Weekday (Mo = 1)',\n",
        "                'Pickup - Weekday (Mo = 1)', 'Platform Type']\n"
      ],
      "execution_count": 0,
      "outputs": []
    },
    {
      "cell_type": "code",
      "metadata": {
        "id": "_Y-hyr5S5l3s",
        "colab_type": "code",
        "colab": {}
      },
      "source": [
        "for col in non_num_list_train:\n",
        "    merged_train_rider_dtype[col] = merged_train_rider_dtype[col].astype('object')"
      ],
      "execution_count": 0,
      "outputs": []
    },
    {
      "cell_type": "code",
      "metadata": {
        "id": "F6G9S9aR5l3x",
        "colab_type": "code",
        "colab": {}
      },
      "source": [
        "for col in non_num_list_test:\n",
        "    merged_test_rider_dtype[col] = merged_test_rider_dtype[col].astype('object')"
      ],
      "execution_count": 0,
      "outputs": []
    },
    {
      "cell_type": "code",
      "metadata": {
        "id": "kTQrcbL25l30",
        "colab_type": "code",
        "colab": {},
        "outputId": "f20469ad-78a5-4b4f-aeb9-f9a798c8d660"
      },
      "source": [
        "merged_train_rider_cols2 = pd.DataFrame(merged_train_rider_dtype.dtypes, columns=['Dtype'])\n",
        "merged_train_rider_cols2.index = merged_train_rider_cols2.index.rename(name='Variable')\n",
        "Variables_Table2 = pd.merge(variable_definitions_df, merged_train_rider_cols2, on='Variable')\n",
        "Variables_Table2.head()"
      ],
      "execution_count": 0,
      "outputs": [
        {
          "output_type": "execute_result",
          "data": {
            "text/html": [
              "<div>\n",
              "<style scoped>\n",
              "    .dataframe tbody tr th:only-of-type {\n",
              "        vertical-align: middle;\n",
              "    }\n",
              "\n",
              "    .dataframe tbody tr th {\n",
              "        vertical-align: top;\n",
              "    }\n",
              "\n",
              "    .dataframe thead th {\n",
              "        text-align: right;\n",
              "    }\n",
              "</style>\n",
              "<table border=\"1\" class=\"dataframe\">\n",
              "  <thead>\n",
              "    <tr style=\"text-align: right;\">\n",
              "      <th></th>\n",
              "      <th>Variable</th>\n",
              "      <th>Definition</th>\n",
              "      <th>Dtype</th>\n",
              "    </tr>\n",
              "  </thead>\n",
              "  <tbody>\n",
              "    <tr>\n",
              "      <th>0</th>\n",
              "      <td>Order No</td>\n",
              "      <td>Unique number identifying the order</td>\n",
              "      <td>object</td>\n",
              "    </tr>\n",
              "    <tr>\n",
              "      <th>1</th>\n",
              "      <td>User Id</td>\n",
              "      <td>Unique number identifying the customer on a pl...</td>\n",
              "      <td>object</td>\n",
              "    </tr>\n",
              "    <tr>\n",
              "      <th>2</th>\n",
              "      <td>Vehicle Type</td>\n",
              "      <td>For this competition limited to bikes, however...</td>\n",
              "      <td>object</td>\n",
              "    </tr>\n",
              "    <tr>\n",
              "      <th>3</th>\n",
              "      <td>Platform Type</td>\n",
              "      <td>Platform used to place the order, there are 4 ...</td>\n",
              "      <td>object</td>\n",
              "    </tr>\n",
              "    <tr>\n",
              "      <th>4</th>\n",
              "      <td>Personal or Business</td>\n",
              "      <td>Customer type</td>\n",
              "      <td>object</td>\n",
              "    </tr>\n",
              "  </tbody>\n",
              "</table>\n",
              "</div>"
            ],
            "text/plain": [
              "               Variable                                         Definition  \\\n",
              "0              Order No                Unique number identifying the order   \n",
              "1               User Id  Unique number identifying the customer on a pl...   \n",
              "2          Vehicle Type  For this competition limited to bikes, however...   \n",
              "3         Platform Type  Platform used to place the order, there are 4 ...   \n",
              "4  Personal or Business                                      Customer type   \n",
              "\n",
              "    Dtype  \n",
              "0  object  \n",
              "1  object  \n",
              "2  object  \n",
              "3  object  \n",
              "4  object  "
            ]
          },
          "metadata": {
            "tags": []
          },
          "execution_count": 16
        }
      ]
    },
    {
      "cell_type": "code",
      "metadata": {
        "id": "R8gffiuI5l33",
        "colab_type": "code",
        "colab": {},
        "outputId": "549f2b2d-d81a-440a-9b8e-7bc68d303aa2"
      },
      "source": [
        "# Get variable datatypes\n",
        "print(f'Number of variables: {len(Variables_Table2)}\\n',\n",
        "     '======================================= \\n')\n",
        "for var, definition, datatype in Variables_Table2.values:\n",
        "    print(f'{var}\\ndata type:{datatype}\\nDef:{definition}\\n')"
      ],
      "execution_count": 0,
      "outputs": [
        {
          "output_type": "stream",
          "text": [
            "Number of variables: 34\n",
            " ======================================= \n",
            "\n",
            "Order No\n",
            "data type:object\n",
            "Def:Unique number identifying the order\n",
            "\n",
            "User Id\n",
            "data type:object\n",
            "Def:Unique number identifying the customer on a platform\n",
            "\n",
            "Vehicle Type\n",
            "data type:object\n",
            "Def:For this competition limited to bikes, however in practice Sendy service extends to trucks and vans\n",
            "\n",
            "Platform Type\n",
            "data type:object\n",
            "Def:Platform used to place the order, there are 4 types\n",
            "\n",
            "Personal or Business\n",
            "data type:object\n",
            "Def:Customer type\n",
            "\n",
            "Placement - Day of Month\n",
            "data type:object\n",
            "Def:Placement - Day of Month i.e 1-31\n",
            "\n",
            "Placement - Weekday (Mo = 1)\n",
            "data type:object\n",
            "Def:Placement - Weekday (Monday = 1)\n",
            "\n",
            "Placement - Time\n",
            "data type:object\n",
            "Def:Placement - Time - Time of day the order was placed\n",
            "\n",
            "Confirmation - Day of Month\n",
            "data type:object\n",
            "Def:Confirmation - Day of Month i.e 1-31\n",
            "\n",
            "Confirmation - Weekday (Mo = 1)\n",
            "data type:object\n",
            "Def:Confirmation - Weekday (Monday = 1)\n",
            "\n",
            "Confirmation - Time\n",
            "data type:object\n",
            "Def:Confirmation - Time - Time of day the order was confirmed by a rider\n",
            "\n",
            "Arrival at Pickup - Day of Month\n",
            "data type:object\n",
            "Def:Arrival at Pickup - Day of Month i.e 1-31\n",
            "\n",
            "Arrival at Pickup - Weekday (Mo = 1)\n",
            "data type:object\n",
            "Def:Arrival at Pickup - Weekday (Monday = 1)\n",
            "\n",
            "Arrival at Pickup - Time\n",
            "data type:object\n",
            "Def:Time of day the the rider arrived at the location to pick up the order - as marked by the rider through the Sendy application\n",
            "\n",
            "Pickup - Day of Month\n",
            "data type:object\n",
            "Def:Pickup - Day of Month i.e 1-31\n",
            "\n",
            "Pickup - Weekday (Mo = 1)\n",
            "data type:object\n",
            "Def:Pickup - Weekday (Monday = 1)\n",
            "\n",
            "Pickup - Time\n",
            "data type:object\n",
            "Def:Pickup - Time - Time of day the the rider picked up the order - as marked by the rider through the Sendy application\n",
            "\n",
            "Arrival at Destination - Day of Month\n",
            "data type:object\n",
            "Def:Arrival at Delivery - Day of Month i.e 1-31\n",
            "\n",
            "Arrival at Destination - Weekday (Mo = 1)\n",
            "data type:object\n",
            "Def:Arrival at Delivery - Weekday (Monday = 1)\n",
            "\n",
            "Arrival at Destination - Time\n",
            "data type:object\n",
            "Def:Arrival at Delivery Time - Time of day the rider arrived at the destination to deliver the order - as marked by the rider through the Sendy application\n",
            "\n",
            "Distance (KM)\n",
            "data type:int64\n",
            "Def:The distance from Pickup to Destination\n",
            "\n",
            "Temperature\n",
            "data type:float64\n",
            "Def:Temperature at the time of order placement in Degrees Celsius (measured every three hours)\n",
            "\n",
            "Precipitation in millimeters\n",
            "data type:float64\n",
            "Def: Precipitation at the time of order placement (measured every three hours)\n",
            "\n",
            "Pickup Lat\n",
            "data type:float64\n",
            "Def:Latitude of pick up location\n",
            "\n",
            "Pickup Long\n",
            "data type:float64\n",
            "Def:Longitude of pick up location\n",
            "\n",
            "Destination Lat\n",
            "data type:float64\n",
            "Def:Latitude of delivery location\n",
            "\n",
            "Destination Long\n",
            "data type:float64\n",
            "Def:Longitude of delivery location\n",
            "\n",
            "Rider Id\n",
            "data type:object\n",
            "Def: ID of the Rider who accepted the order\n",
            "\n",
            "Rider Id\n",
            "data type:object\n",
            "Def:Unique number identifying the rider (same as in order details)\n",
            "\n",
            "Time from Pickup to Arrival\n",
            "data type:int64\n",
            "Def:Time in seconds between 'Pickup' and 'Arrival at Destination' - calculated from the columns for the purpose of facilitating the task\n",
            "\n",
            "No_Of_Orders\n",
            "data type:int64\n",
            "Def: Number of Orders the rider has delivered\n",
            "\n",
            "Age\n",
            "data type:int64\n",
            "Def:Number of days since the rider delivered the first order\n",
            "\n",
            "Average_Rating\n",
            "data type:float64\n",
            "Def:Average rating of the rider\n",
            "\n",
            "No_of_Ratings\n",
            "data type:int64\n",
            "Def: Number of ratings the rider has received. Rating an order is optional for the customer.\n",
            "\n"
          ],
          "name": "stdout"
        }
      ]
    },
    {
      "cell_type": "markdown",
      "metadata": {
        "id": "hb-JvrK55l37",
        "colab_type": "text"
      },
      "source": [
        "### 1.4.3 Assess Missing Data"
      ]
    },
    {
      "cell_type": "code",
      "metadata": {
        "id": "iiyTOB5z5l38",
        "colab_type": "code",
        "colab": {}
      },
      "source": [
        "# define function to calculate missing values\n",
        "def missing_values_table(df):\n",
        "    \"\"\"\n",
        "    This function takes a dataframe as input and returns a dataframe\n",
        "    of the number and percentage of missing values as and output.\n",
        "    \"\"\"\n",
        "    mis_val = df.isnull().sum()\n",
        "\n",
        "    mis_val_percent = 100 * df.isnull().sum() / len(df)\n",
        "\n",
        "    mis_val_table = pd.concat([mis_val, mis_val_percent], axis=1)\n",
        "\n",
        "    mis_val_table_ren_columns = mis_val_table.rename(\n",
        "    columns = {0 : 'Missing Values', 1 : '% of Total Values'})\n",
        "\n",
        "    mis_val_table_ren_columns = mis_val_table_ren_columns[\n",
        "        mis_val_table_ren_columns.iloc[:,1] != 0].sort_values(\n",
        "    '% of Total Values', ascending=False).round(1)\n",
        "\n",
        "    print (\"Your selected dataframe has \" + str(df.shape[1]) + \" columns.\\n\"      \n",
        "        \"There are \" + str(mis_val_table_ren_columns.shape[0]) +\n",
        "          \" columns that have missing values.\")\n",
        "\n",
        "    # Return the dataframe with missing information\n",
        "    return mis_val_table_ren_columns"
      ],
      "execution_count": 0,
      "outputs": []
    },
    {
      "cell_type": "code",
      "metadata": {
        "scrolled": true,
        "id": "7bYnh0rZ5l4A",
        "colab_type": "code",
        "colab": {},
        "outputId": "fa64bd63-ae3b-4d14-ddb4-ecfd02933f7c"
      },
      "source": [
        "# Assess Train dataset dimensions, variables and datatypes\n",
        "merged_train_rider_dtype.info()"
      ],
      "execution_count": 0,
      "outputs": [
        {
          "output_type": "stream",
          "text": [
            "<class 'pandas.core.frame.DataFrame'>\n",
            "Int64Index: 21201 entries, 0 to 21200\n",
            "Data columns (total 33 columns):\n",
            " #   Column                                     Non-Null Count  Dtype  \n",
            "---  ------                                     --------------  -----  \n",
            " 0   Order No                                   21201 non-null  object \n",
            " 1   User Id                                    21201 non-null  object \n",
            " 2   Vehicle Type                               21201 non-null  object \n",
            " 3   Platform Type                              21201 non-null  object \n",
            " 4   Personal or Business                       21201 non-null  object \n",
            " 5   Placement - Day of Month                   21201 non-null  object \n",
            " 6   Placement - Weekday (Mo = 1)               21201 non-null  object \n",
            " 7   Placement - Time                           21201 non-null  object \n",
            " 8   Confirmation - Day of Month                21201 non-null  object \n",
            " 9   Confirmation - Weekday (Mo = 1)            21201 non-null  object \n",
            " 10  Confirmation - Time                        21201 non-null  object \n",
            " 11  Arrival at Pickup - Day of Month           21201 non-null  object \n",
            " 12  Arrival at Pickup - Weekday (Mo = 1)       21201 non-null  object \n",
            " 13  Arrival at Pickup - Time                   21201 non-null  object \n",
            " 14  Pickup - Day of Month                      21201 non-null  object \n",
            " 15  Pickup - Weekday (Mo = 1)                  21201 non-null  object \n",
            " 16  Pickup - Time                              21201 non-null  object \n",
            " 17  Arrival at Destination - Day of Month      21201 non-null  object \n",
            " 18  Arrival at Destination - Weekday (Mo = 1)  21201 non-null  object \n",
            " 19  Arrival at Destination - Time              21201 non-null  object \n",
            " 20  Distance (KM)                              21201 non-null  int64  \n",
            " 21  Temperature                                16835 non-null  float64\n",
            " 22  Precipitation in millimeters               552 non-null    float64\n",
            " 23  Pickup Lat                                 21201 non-null  float64\n",
            " 24  Pickup Long                                21201 non-null  float64\n",
            " 25  Destination Lat                            21201 non-null  float64\n",
            " 26  Destination Long                           21201 non-null  float64\n",
            " 27  Rider Id                                   21201 non-null  object \n",
            " 28  Time from Pickup to Arrival                21201 non-null  int64  \n",
            " 29  No_Of_Orders                               21201 non-null  int64  \n",
            " 30  Age                                        21201 non-null  int64  \n",
            " 31  Average_Rating                             21201 non-null  float64\n",
            " 32  No_of_Ratings                              21201 non-null  int64  \n",
            "dtypes: float64(7), int64(5), object(21)\n",
            "memory usage: 5.5+ MB\n"
          ],
          "name": "stdout"
        }
      ]
    },
    {
      "cell_type": "code",
      "metadata": {
        "id": "A0KPBrb35l4E",
        "colab_type": "code",
        "colab": {},
        "outputId": "ce08fdcb-4aa1-43a7-f313-810494adf9a0"
      },
      "source": [
        "# Assess Train dataset missing values\n",
        "missing_values_table(merged_train_rider_dtype)"
      ],
      "execution_count": 0,
      "outputs": [
        {
          "output_type": "stream",
          "text": [
            "Your selected dataframe has 33 columns.\n",
            "There are 2 columns that have missing values.\n"
          ],
          "name": "stdout"
        },
        {
          "output_type": "execute_result",
          "data": {
            "text/html": [
              "<div>\n",
              "<style scoped>\n",
              "    .dataframe tbody tr th:only-of-type {\n",
              "        vertical-align: middle;\n",
              "    }\n",
              "\n",
              "    .dataframe tbody tr th {\n",
              "        vertical-align: top;\n",
              "    }\n",
              "\n",
              "    .dataframe thead th {\n",
              "        text-align: right;\n",
              "    }\n",
              "</style>\n",
              "<table border=\"1\" class=\"dataframe\">\n",
              "  <thead>\n",
              "    <tr style=\"text-align: right;\">\n",
              "      <th></th>\n",
              "      <th>Missing Values</th>\n",
              "      <th>% of Total Values</th>\n",
              "    </tr>\n",
              "  </thead>\n",
              "  <tbody>\n",
              "    <tr>\n",
              "      <th>Precipitation in millimeters</th>\n",
              "      <td>20649</td>\n",
              "      <td>97.4</td>\n",
              "    </tr>\n",
              "    <tr>\n",
              "      <th>Temperature</th>\n",
              "      <td>4366</td>\n",
              "      <td>20.6</td>\n",
              "    </tr>\n",
              "  </tbody>\n",
              "</table>\n",
              "</div>"
            ],
            "text/plain": [
              "                              Missing Values  % of Total Values\n",
              "Precipitation in millimeters           20649               97.4\n",
              "Temperature                             4366               20.6"
            ]
          },
          "metadata": {
            "tags": []
          },
          "execution_count": 20
        }
      ]
    },
    {
      "cell_type": "code",
      "metadata": {
        "scrolled": true,
        "id": "Sm1fCbI95l4I",
        "colab_type": "code",
        "colab": {},
        "outputId": "6625aaae-c0bc-418e-8b84-2c7277c8fc5a"
      },
      "source": [
        "# Assess Test dataset dimensions, variables and datatypes\n",
        "merged_test_rider_dtype.info()"
      ],
      "execution_count": 0,
      "outputs": [
        {
          "output_type": "stream",
          "text": [
            "<class 'pandas.core.frame.DataFrame'>\n",
            "Int64Index: 7068 entries, 0 to 7067\n",
            "Data columns (total 29 columns):\n",
            " #   Column                                Non-Null Count  Dtype  \n",
            "---  ------                                --------------  -----  \n",
            " 0   Order No                              7068 non-null   object \n",
            " 1   User Id                               7068 non-null   object \n",
            " 2   Vehicle Type                          7068 non-null   object \n",
            " 3   Platform Type                         7068 non-null   object \n",
            " 4   Personal or Business                  7068 non-null   object \n",
            " 5   Placement - Day of Month              7068 non-null   object \n",
            " 6   Placement - Weekday (Mo = 1)          7068 non-null   object \n",
            " 7   Placement - Time                      7068 non-null   object \n",
            " 8   Confirmation - Day of Month           7068 non-null   object \n",
            " 9   Confirmation - Weekday (Mo = 1)       7068 non-null   object \n",
            " 10  Confirmation - Time                   7068 non-null   object \n",
            " 11  Arrival at Pickup - Day of Month      7068 non-null   int64  \n",
            " 12  Arrival at Pickup - Weekday (Mo = 1)  7068 non-null   object \n",
            " 13  Arrival at Pickup - Time              7068 non-null   object \n",
            " 14  Pickup - Day of Month                 7068 non-null   int64  \n",
            " 15  Pickup - Weekday (Mo = 1)             7068 non-null   object \n",
            " 16  Pickup - Time                         7068 non-null   object \n",
            " 17  Distance (KM)                         7068 non-null   int64  \n",
            " 18  Temperature                           5631 non-null   float64\n",
            " 19  Precipitation in millimeters          199 non-null    float64\n",
            " 20  Pickup Lat                            7068 non-null   float64\n",
            " 21  Pickup Long                           7068 non-null   float64\n",
            " 22  Destination Lat                       7068 non-null   float64\n",
            " 23  Destination Long                      7068 non-null   float64\n",
            " 24  Rider Id                              7068 non-null   object \n",
            " 25  No_Of_Orders                          7068 non-null   int64  \n",
            " 26  Age                                   7068 non-null   int64  \n",
            " 27  Average_Rating                        7068 non-null   float64\n",
            " 28  No_of_Ratings                         7068 non-null   int64  \n",
            "dtypes: float64(7), int64(6), object(16)\n",
            "memory usage: 1.6+ MB\n"
          ],
          "name": "stdout"
        }
      ]
    },
    {
      "cell_type": "code",
      "metadata": {
        "id": "ugh3L90v5l4N",
        "colab_type": "code",
        "colab": {},
        "outputId": "171a0ac1-b98f-4208-a45e-a954bb7f956e"
      },
      "source": [
        "# Assess Test dataset missing values\n",
        "missing_values_table(merged_test_rider_dtype)"
      ],
      "execution_count": 0,
      "outputs": [
        {
          "output_type": "stream",
          "text": [
            "Your selected dataframe has 29 columns.\n",
            "There are 2 columns that have missing values.\n"
          ],
          "name": "stdout"
        },
        {
          "output_type": "execute_result",
          "data": {
            "text/html": [
              "<div>\n",
              "<style scoped>\n",
              "    .dataframe tbody tr th:only-of-type {\n",
              "        vertical-align: middle;\n",
              "    }\n",
              "\n",
              "    .dataframe tbody tr th {\n",
              "        vertical-align: top;\n",
              "    }\n",
              "\n",
              "    .dataframe thead th {\n",
              "        text-align: right;\n",
              "    }\n",
              "</style>\n",
              "<table border=\"1\" class=\"dataframe\">\n",
              "  <thead>\n",
              "    <tr style=\"text-align: right;\">\n",
              "      <th></th>\n",
              "      <th>Missing Values</th>\n",
              "      <th>% of Total Values</th>\n",
              "    </tr>\n",
              "  </thead>\n",
              "  <tbody>\n",
              "    <tr>\n",
              "      <th>Precipitation in millimeters</th>\n",
              "      <td>6869</td>\n",
              "      <td>97.2</td>\n",
              "    </tr>\n",
              "    <tr>\n",
              "      <th>Temperature</th>\n",
              "      <td>1437</td>\n",
              "      <td>20.3</td>\n",
              "    </tr>\n",
              "  </tbody>\n",
              "</table>\n",
              "</div>"
            ],
            "text/plain": [
              "                              Missing Values  % of Total Values\n",
              "Precipitation in millimeters            6869               97.2\n",
              "Temperature                             1437               20.3"
            ]
          },
          "metadata": {
            "tags": []
          },
          "execution_count": 22
        }
      ]
    },
    {
      "cell_type": "markdown",
      "metadata": {
        "id": "o50j2hfY5l4R",
        "colab_type": "text"
      },
      "source": [
        "### 1.4.4 EDA"
      ]
    },
    {
      "cell_type": "code",
      "metadata": {
        "id": "beLf_oKh5l4R",
        "colab_type": "code",
        "colab": {},
        "outputId": "93b4ac2b-81bd-407f-9d11-07dffc5538af"
      },
      "source": [
        "# list of numeric data types\n",
        "numerics = ['int16', 'int32', 'int64', 'float16', 'float32', 'float64']\n",
        "numeric_features = merged_train_rider_dtype.select_dtypes(include=numerics).columns\n",
        "print(f'Numeric features: {len(numeric_features)} features\\n{numeric_features}')\n",
        "\n",
        "# list of columns for non-numeric features\n",
        "non_numeric_features = merged_train_rider_dtype.select_dtypes(include='object').columns\n",
        "print(f'Non-numeric features: {len(non_numeric_features)} features\\n{non_numeric_features}')"
      ],
      "execution_count": 0,
      "outputs": [
        {
          "output_type": "stream",
          "text": [
            "Numeric features: 12 features\n",
            "Index(['Distance (KM)', 'Temperature', 'Precipitation in millimeters',\n",
            "       'Pickup Lat', 'Pickup Long', 'Destination Lat', 'Destination Long',\n",
            "       'Time from Pickup to Arrival', 'No_Of_Orders', 'Age', 'Average_Rating',\n",
            "       'No_of_Ratings'],\n",
            "      dtype='object')\n",
            "Non-numeric features: 21 features\n",
            "Index(['Order No', 'User Id', 'Vehicle Type', 'Platform Type',\n",
            "       'Personal or Business', 'Placement - Day of Month',\n",
            "       'Placement - Weekday (Mo = 1)', 'Placement - Time',\n",
            "       'Confirmation - Day of Month', 'Confirmation - Weekday (Mo = 1)',\n",
            "       'Confirmation - Time', 'Arrival at Pickup - Day of Month',\n",
            "       'Arrival at Pickup - Weekday (Mo = 1)', 'Arrival at Pickup - Time',\n",
            "       'Pickup - Day of Month', 'Pickup - Weekday (Mo = 1)', 'Pickup - Time',\n",
            "       'Arrival at Destination - Day of Month',\n",
            "       'Arrival at Destination - Weekday (Mo = 1)',\n",
            "       'Arrival at Destination - Time', 'Rider Id'],\n",
            "      dtype='object')\n"
          ],
          "name": "stdout"
        }
      ]
    },
    {
      "cell_type": "code",
      "metadata": {
        "id": "NQZS2bVI5l4U",
        "colab_type": "code",
        "colab": {},
        "outputId": "ccba06d3-f5bd-490f-b2cc-c968399a6b56"
      },
      "source": [
        "# Assess response variable\n",
        "print(merged_train_rider_dtype['Time from Pickup to Arrival'].describe())\n",
        "plt.figure(figsize=(9, 8))\n",
        "sns.distplot(merged_train_rider_dtype['Time from Pickup to Arrival'], color='g', bins=100, hist_kws={'alpha': 0.4});\n",
        "#skewness and kurtosis\n",
        "print(\"Skewness: %f\" % merged_train_rider_dtype['Time from Pickup to Arrival'].skew())\n",
        "print(\"Kurtosis: %f\" % merged_train_rider_dtype['Time from Pickup to Arrival'].kurt())"
      ],
      "execution_count": 0,
      "outputs": [
        {
          "output_type": "stream",
          "text": [
            "count    21201.000000\n",
            "mean      1556.920947\n",
            "std        987.270788\n",
            "min          1.000000\n",
            "25%        882.000000\n",
            "50%       1369.000000\n",
            "75%       2040.000000\n",
            "max       7883.000000\n",
            "Name: Time from Pickup to Arrival, dtype: float64\n",
            "Skewness: 1.201938\n",
            "Kurtosis: 2.236352\n"
          ],
          "name": "stdout"
        },
        {
          "output_type": "display_data",
          "data": {
            "image/png": "[encoded data removed]",
            "text/plain": [
              "<Figure size 648x576 with 1 Axes>"
            ]
          },
          "metadata": {
            "tags": []
          }
        }
      ]
    },
    {
      "cell_type": "markdown",
      "metadata": {
        "id": "iSqWdFoY5l4Y",
        "colab_type": "text"
      },
      "source": [
        "#### Obervations\n",
        "* Exponential distribution\n",
        "* Large Number of 0 second Time from pickup to arrival"
      ]
    },
    {
      "cell_type": "code",
      "metadata": {
        "scrolled": true,
        "id": "kbEIY3dv5l4Z",
        "colab_type": "code",
        "colab": {},
        "outputId": "aaec4bdd-e260-4b01-f18e-7ccb90bc0c31"
      },
      "source": [
        "# Assess numercal predictor variables\n",
        "merged_train_rider_dtype.drop(['Time from Pickup to Arrival'], axis=1).hist(\n",
        "    figsize=(16, 20),bins=30)\n",
        "plt.tight_layout()\n",
        "plt.show()"
      ],
      "execution_count": 0,
      "outputs": [
        {
          "output_type": "display_data",
          "data": {
            "image/png": "[encoded data removed]",
            "text/plain": [
              "<Figure size 1152x1440 with 12 Axes>"
            ]
          },
          "metadata": {
            "tags": []
          }
        }
      ]
    },
    {
      "cell_type": "code",
      "metadata": {
        "id": "2VMvyDRu5l4c",
        "colab_type": "code",
        "colab": {}
      },
      "source": [
        "# Create correlation matrix\n",
        "corr = merged_train_rider_dtype.drop('Time from Pickup to Arrival', axis=1).corr()"
      ],
      "execution_count": 0,
      "outputs": []
    },
    {
      "cell_type": "code",
      "metadata": {
        "id": "SUY3LHnL5l4f",
        "colab_type": "code",
        "colab": {}
      },
      "source": [
        "# import function to plot correlation matrix\n",
        "from statsmodels.graphics.correlation import plot_corr"
      ],
      "execution_count": 0,
      "outputs": []
    },
    {
      "cell_type": "code",
      "metadata": {
        "scrolled": false,
        "id": "Ooz8zWJp5l4j",
        "colab_type": "code",
        "colab": {},
        "outputId": "d89015cc-b25a-401d-9108-4903cb95275e"
      },
      "source": [
        "plt.figure(figsize=(10,7))\n",
        "fig=plot_corr(corr,xnames=corr.columns)\n",
        "plt.show()"
      ],
      "execution_count": 0,
      "outputs": [
        {
          "output_type": "display_data",
          "data": {
            "text/plain": [
              "<Figure size 720x504 with 0 Axes>"
            ]
          },
          "metadata": {
            "tags": []
          }
        },
        {
          "output_type": "display_data",
          "data": {
            "image/png": "[encoded data removed]",
            "text/plain": [
              "<Figure size 432x288 with 2 Axes>"
            ]
          },
          "metadata": {
            "tags": []
          }
        }
      ]
    },
    {
      "cell_type": "markdown",
      "metadata": {
        "id": "YzZHIpNx5l4n",
        "colab_type": "text"
      },
      "source": [
        "#### Observations\n",
        "highly correlated variables:\n",
        "* Number of orders\n",
        "* Age\n",
        "* No of Ratings\n"
      ]
    },
    {
      "cell_type": "code",
      "metadata": {
        "id": "axvKO4Ip5l4p",
        "colab_type": "code",
        "colab": {},
        "outputId": "edd6b3c2-81d8-4192-db07-952699d27605"
      },
      "source": [
        "# Calculate correlations between predictor variables and the response variable\n",
        "corrs = merged_train_rider_dtype.corr()['Time from Pickup to Arrival'].sort_values(ascending=False)\n",
        "print(f'correlations with {merged_train_rider_dtype.columns[-1]}:\\n{corrs}')"
      ],
      "execution_count": 0,
      "outputs": [
        {
          "output_type": "stream",
          "text": [
            "correlations with No_of_Ratings:\n",
            "Time from Pickup to Arrival     1.000000\n",
            "Distance (KM)                   0.580608\n",
            "Destination Long                0.070425\n",
            "Pickup Long                     0.060285\n",
            "Precipitation in millimeters    0.024756\n",
            "Temperature                     0.006465\n",
            "No_of_Ratings                   0.005609\n",
            "Age                            -0.007969\n",
            "No_Of_Orders                   -0.041608\n",
            "Average_Rating                 -0.042559\n",
            "Pickup Lat                     -0.053823\n",
            "Destination Lat                -0.061872\n",
            "Name: Time from Pickup to Arrival, dtype: float64\n"
          ],
          "name": "stdout"
        }
      ]
    },
    {
      "cell_type": "code",
      "metadata": {
        "id": "I-UeBsNx5l4q",
        "colab_type": "code",
        "colab": {}
      },
      "source": [
        "# plot_var1 = 'Placement - Weekday (Mo = 1)'\n",
        "# plot_var2 = 'Order No'\n",
        "# plot_var3 = 'User Id'\n",
        "# plot_var4 = 'Vehicle Type'\n",
        "\n",
        "# fig, axs = plt.subplots(2, 2)\n",
        "# axs[0, 0].hist(merged_train_rider_dtype[plot_var1])\n",
        "# axs[0, 0].set_title(f'{plot_var1}')\n",
        "# axs[0, 1].hist(merged_train_rider_dtype[plot_var2])\n",
        "# axs[0, 1].set_title(f'{plot_var2}')\n",
        "# axs[1, 0].hist(merged_train_rider_dtype[plot_var3])\n",
        "# axs[1, 0].set_title(f'{plot_var3}')\n",
        "# axs[1, 1].hist(merged_train_rider_dtype[plot_var4])\n",
        "# axs[1, 1].set_title(f'{plot_var4}')\n",
        "\n",
        "# for ax in axs.flat:\n",
        "#     ax.set(xlabel='x-label', ylabel='y-label')\n",
        "\n",
        "# # Hide x labels and tick labels for top plots and y ticks for right plots.\n",
        "# for ax in axs.flat:\n",
        "#     ax.label_outer()"
      ],
      "execution_count": 0,
      "outputs": []
    },
    {
      "cell_type": "code",
      "metadata": {
        "id": "Qr97hoHn5l4v",
        "colab_type": "code",
        "colab": {},
        "outputId": "402c0b4d-2302-4bcc-944d-3284677bfcaa"
      },
      "source": [
        "['Order No', 'User Id']"
      ],
      "execution_count": 0,
      "outputs": [
        {
          "output_type": "execute_result",
          "data": {
            "text/plain": [
              "['Order No', 'User Id']"
            ]
          },
          "metadata": {
            "tags": []
          },
          "execution_count": 31
        }
      ]
    },
    {
      "cell_type": "code",
      "metadata": {
        "id": "O8_JEijM5l4y",
        "colab_type": "code",
        "colab": {},
        "outputId": "542188dc-8a3e-42f7-841a-0acc8069ba3f"
      },
      "source": [
        "# 1\n",
        "plot_var = 'Order No'\n",
        "merged_train_rider_dtype[plot_var].value_counts(normalize=True)"
      ],
      "execution_count": 0,
      "outputs": [
        {
          "output_type": "execute_result",
          "data": {
            "text/plain": [
              "Order_No_17085    0.000047\n",
              "Order_No_3966     0.000047\n",
              "Order_No_19554    0.000047\n",
              "Order_No_19660    0.000047\n",
              "Order_No_6630     0.000047\n",
              "                    ...   \n",
              "Order_No_11797    0.000047\n",
              "Order_No_10857    0.000047\n",
              "Order_No_2763     0.000047\n",
              "Order_No_9948     0.000047\n",
              "Order_No_10547    0.000047\n",
              "Name: Order No, Length: 21201, dtype: float64"
            ]
          },
          "metadata": {
            "tags": []
          },
          "execution_count": 32
        }
      ]
    },
    {
      "cell_type": "code",
      "metadata": {
        "id": "1EBDpAS05l42",
        "colab_type": "code",
        "colab": {},
        "outputId": "c1cc1ce6-0ee4-4330-a436-8e10b19e63dd"
      },
      "source": [
        "#2\n",
        "plot_var = 'User Id'\n",
        "merged_train_rider_dtype[plot_var].value_counts(normalize=True)"
      ],
      "execution_count": 0,
      "outputs": [
        {
          "output_type": "execute_result",
          "data": {
            "text/plain": [
              "User_Id_393     0.030423\n",
              "User_Id_2330    0.015188\n",
              "User_Id_3647    0.014716\n",
              "User_Id_1500    0.014197\n",
              "User_Id_635     0.013679\n",
              "                  ...   \n",
              "User_Id_1916    0.000047\n",
              "User_Id_725     0.000047\n",
              "User_Id_2445    0.000047\n",
              "User_Id_1945    0.000047\n",
              "User_Id_2889    0.000047\n",
              "Name: User Id, Length: 3186, dtype: float64"
            ]
          },
          "metadata": {
            "tags": []
          },
          "execution_count": 33
        }
      ]
    },
    {
      "cell_type": "code",
      "metadata": {
        "id": "G-gkvO9Q5l45",
        "colab_type": "code",
        "colab": {},
        "outputId": "d4ae0ec1-fe9a-4309-8313-7a0586d023cd"
      },
      "source": [
        "['Vehicle Type', 'Platform Type']\n",
        "       "
      ],
      "execution_count": 0,
      "outputs": [
        {
          "output_type": "execute_result",
          "data": {
            "text/plain": [
              "['Vehicle Type', 'Platform Type']"
            ]
          },
          "metadata": {
            "tags": []
          },
          "execution_count": 34
        }
      ]
    },
    {
      "cell_type": "code",
      "metadata": {
        "id": "6xpxgjGw5l47",
        "colab_type": "code",
        "colab": {},
        "outputId": "c49fb827-e545-4420-c091-874f50af3669"
      },
      "source": [
        "#3\n",
        "plot_var = 'Vehicle Type'\n",
        "plt.hist(merged_train_rider_dtype[plot_var])\n",
        "plt.xlabel(plot_var)\n",
        "plt.ylabel('Number of deliveries')\n",
        "plt.show()\n",
        "merged_train_rider_dtype[plot_var].value_counts(normalize=True)"
      ],
      "execution_count": 0,
      "outputs": [
        {
          "output_type": "display_data",
          "data": {
            "image/png": "[encoded data removed]",
            "text/plain": [
              "<Figure size 432x288 with 1 Axes>"
            ]
          },
          "metadata": {
            "tags": []
          }
        },
        {
          "output_type": "execute_result",
          "data": {
            "text/plain": [
              "Bike    1.0\n",
              "Name: Vehicle Type, dtype: float64"
            ]
          },
          "metadata": {
            "tags": []
          },
          "execution_count": 35
        }
      ]
    },
    {
      "cell_type": "code",
      "metadata": {
        "id": "WsYdT1rT5l4-",
        "colab_type": "code",
        "colab": {},
        "outputId": "433fc71d-6f26-4ce4-8b07-52d1a58d1432"
      },
      "source": [
        "# 4\n",
        "plot_var = 'Platform Type'\n",
        "plt.hist(merged_train_rider_dtype[plot_var])\n",
        "plt.xlabel(plot_var)\n",
        "plt.ylabel('Number of deliveries')\n",
        "plt.show()\n",
        "merged_train_rider_dtype[plot_var].value_counts(normalize=True)"
      ],
      "execution_count": 0,
      "outputs": [
        {
          "output_type": "display_data",
          "data": {
            "image/png": "[encoded data removed]",
            "text/plain": [
              "<Figure size 432x288 with 1 Axes>"
            ]
          },
          "metadata": {
            "tags": []
          }
        },
        {
          "output_type": "execute_result",
          "data": {
            "text/plain": [
              "3    0.851564\n",
              "1    0.101269\n",
              "2    0.046224\n",
              "4    0.000943\n",
              "Name: Platform Type, dtype: float64"
            ]
          },
          "metadata": {
            "tags": []
          },
          "execution_count": 36
        }
      ]
    },
    {
      "cell_type": "code",
      "metadata": {
        "id": "BuGmbWEY5l5B",
        "colab_type": "code",
        "colab": {},
        "outputId": "abf75f8a-a8c8-4d7b-ceaf-8b8d81b5bda7"
      },
      "source": [
        "['Personal or Business', 'Placement - Day of Month']"
      ],
      "execution_count": 0,
      "outputs": [
        {
          "output_type": "execute_result",
          "data": {
            "text/plain": [
              "['Personal or Business', 'Placement - Day of Month']"
            ]
          },
          "metadata": {
            "tags": []
          },
          "execution_count": 37
        }
      ]
    },
    {
      "cell_type": "code",
      "metadata": {
        "id": "fuaHmz4Q5l5D",
        "colab_type": "code",
        "colab": {},
        "outputId": "1add34f9-0302-4d41-8dba-6ebd6afc518c"
      },
      "source": [
        "# 5\n",
        "plot_var = 'Personal or Business'\n",
        "plt.hist(merged_train_rider_dtype[plot_var])\n",
        "plt.xlabel(plot_var)\n",
        "plt.ylabel('Number of deliveries')\n",
        "plt.show()\n",
        "merged_train_rider_dtype[plot_var].value_counts(normalize=True)"
      ],
      "execution_count": 0,
      "outputs": [
        {
          "output_type": "display_data",
          "data": {
            "image/png": "[encoded data removed]",
            "text/plain": [
              "<Figure size 432x288 with 1 Axes>"
            ]
          },
          "metadata": {
            "tags": []
          }
        },
        {
          "output_type": "execute_result",
          "data": {
            "text/plain": [
              "Business    0.819961\n",
              "Personal    0.180039\n",
              "Name: Personal or Business, dtype: float64"
            ]
          },
          "metadata": {
            "tags": []
          },
          "execution_count": 38
        }
      ]
    },
    {
      "cell_type": "code",
      "metadata": {
        "id": "vvjS9ktN5l5F",
        "colab_type": "code",
        "colab": {},
        "outputId": "b82002d7-35b1-4f5b-f9c1-0fcde363077e"
      },
      "source": [
        "# 6\n",
        "plot_var = 'Placement - Day of Month'\n",
        "plt.hist(merged_train_rider_dtype[plot_var], bins=30)\n",
        "plt.xlabel(plot_var)\n",
        "plt.ylabel('Number of deliveries')\n",
        "plt.show()\n",
        "merged_train_rider_dtype[plot_var].value_counts(normalize=True)"
      ],
      "execution_count": 0,
      "outputs": [
        {
          "output_type": "display_data",
          "data": {
            "image/png": "[encoded data removed]",
            "text/plain": [
              "<Figure size 432x288 with 1 Axes>"
            ]
          },
          "metadata": {
            "tags": []
          }
        },
        {
          "output_type": "execute_result",
          "data": {
            "text/plain": [
              "8     0.039998\n",
              "7     0.038772\n",
              "13    0.038253\n",
              "14    0.037923\n",
              "6     0.037451\n",
              "28    0.036979\n",
              "18    0.036272\n",
              "4     0.036272\n",
              "15    0.035942\n",
              "11    0.035470\n",
              "5     0.035234\n",
              "3     0.033866\n",
              "30    0.033678\n",
              "10    0.033442\n",
              "25    0.032593\n",
              "29    0.032310\n",
              "27    0.031602\n",
              "9     0.031461\n",
              "12    0.031414\n",
              "22    0.030659\n",
              "21    0.030612\n",
              "20    0.030329\n",
              "26    0.030140\n",
              "2     0.028395\n",
              "17    0.027970\n",
              "24    0.027876\n",
              "19    0.027782\n",
              "16    0.026650\n",
              "23    0.026555\n",
              "1     0.022735\n",
              "31    0.021367\n",
              "Name: Placement - Day of Month, dtype: float64"
            ]
          },
          "metadata": {
            "tags": []
          },
          "execution_count": 39
        }
      ]
    },
    {
      "cell_type": "code",
      "metadata": {
        "id": "CBjZvx7B5l5H",
        "colab_type": "code",
        "colab": {},
        "outputId": "b4d5cf9e-a8b7-4b58-c85b-ae2fc0c23146"
      },
      "source": [
        "['Placement - Weekday (Mo = 1)', 'Placement - Time']\n",
        "\n"
      ],
      "execution_count": 0,
      "outputs": [
        {
          "output_type": "execute_result",
          "data": {
            "text/plain": [
              "['Placement - Weekday (Mo = 1)', 'Placement - Time']"
            ]
          },
          "metadata": {
            "tags": []
          },
          "execution_count": 40
        }
      ]
    },
    {
      "cell_type": "code",
      "metadata": {
        "id": "QE491IoN5l5K",
        "colab_type": "code",
        "colab": {},
        "outputId": "77101466-3d32-412c-ef4f-3429bcbd8a6c"
      },
      "source": [
        "# 7\n",
        "plot_var = 'Placement - Weekday (Mo = 1)'\n",
        "plt.hist(merged_train_rider_dtype[plot_var])\n",
        "plt.xlabel(plot_var)\n",
        "plt.ylabel('Number of deliveries')\n",
        "plt.show()\n",
        "merged_train_rider_dtype[plot_var].value_counts(normalize=True)"
      ],
      "execution_count": 0,
      "outputs": [
        {
          "output_type": "display_data",
          "data": {
            "image/png": "[encoded data removed]",
            "text/plain": [
              "<Figure size 432x288 with 1 Axes>"
            ]
          },
          "metadata": {
            "tags": []
          }
        },
        {
          "output_type": "execute_result",
          "data": {
            "text/plain": [
              "4    0.199425\n",
              "5    0.188340\n",
              "2    0.186736\n",
              "3    0.180322\n",
              "1    0.178718\n",
              "6    0.057686\n",
              "7    0.008773\n",
              "Name: Placement - Weekday (Mo = 1), dtype: float64"
            ]
          },
          "metadata": {
            "tags": []
          },
          "execution_count": 41
        }
      ]
    },
    {
      "cell_type": "code",
      "metadata": {
        "id": "u945SE4y5l5N",
        "colab_type": "code",
        "colab": {}
      },
      "source": [
        "# 8\n",
        "plot_var = 'Placement - Time'\n",
        "plt.hist(merged_train_rider_dtype[plot_var])\n",
        "plt.xlabel(plot_var)\n",
        "plt.ylabel('Number of deliveries')\n",
        "plt.show()\n",
        "merged_train_rider_dtype[plot_var].value_counts(normalize=True)"
      ],
      "execution_count": 0,
      "outputs": []
    },
    {
      "cell_type": "code",
      "metadata": {
        "id": "pVCd1oIS5l5Q",
        "colab_type": "code",
        "colab": {}
      },
      "source": [
        "['Confirmation - Day of Month', 'Confirmation - Weekday (Mo = 1)']\n",
        "\n"
      ],
      "execution_count": 0,
      "outputs": []
    },
    {
      "cell_type": "code",
      "metadata": {
        "id": "Ilcn9shP5l5f",
        "colab_type": "code",
        "colab": {}
      },
      "source": [
        "# 9\n",
        "plot_var = 'Confirmation - Day of Month'\n",
        "plt.hist(merged_train_rider_dtype[plot_var])\n",
        "plt.xlabel(plot_var)\n",
        "plt.ylabel('Number of deliveries')\n",
        "plt.show()"
      ],
      "execution_count": 0,
      "outputs": []
    },
    {
      "cell_type": "code",
      "metadata": {
        "id": "LkVDx8qu5l5h",
        "colab_type": "code",
        "colab": {}
      },
      "source": [
        "# 10\n",
        "plot_var = 'Confirmation - Weekday (Mo = 1)'\n",
        "plt.hist(merged_train_rider_dtype[plot_var])\n",
        "plt.xlabel(plot_var)\n",
        "plt.ylabel('Number of deliveries')\n",
        "plt.show()"
      ],
      "execution_count": 0,
      "outputs": []
    },
    {
      "cell_type": "code",
      "metadata": {
        "id": "GZgWRELX5l5j",
        "colab_type": "code",
        "colab": {}
      },
      "source": [
        "['Confirmation - Time', 'Arrival at Pickup - Day of Month']\n",
        "\n"
      ],
      "execution_count": 0,
      "outputs": []
    },
    {
      "cell_type": "code",
      "metadata": {
        "id": "dXFTyO7e5l5l",
        "colab_type": "code",
        "colab": {}
      },
      "source": [
        "# 11\n",
        "plot_var = 'Confirmation - Time'\n",
        "plt.hist(merged_train_rider_dtype[plot_var])\n",
        "plt.xlabel(plot_var)\n",
        "plt.ylabel('Number of deliveries')\n",
        "plt.show()"
      ],
      "execution_count": 0,
      "outputs": []
    },
    {
      "cell_type": "code",
      "metadata": {
        "id": "cjjQ7VCX5l5p",
        "colab_type": "code",
        "colab": {}
      },
      "source": [
        "# 12\n",
        "plot_var = 'Arrival at Pickup - Day of Month'\n",
        "plt.hist(merged_train_rider_dtype[plot_var])\n",
        "plt.xlabel(plot_var)\n",
        "plt.ylabel('Number of deliveries')\n",
        "plt.show()"
      ],
      "execution_count": 0,
      "outputs": []
    },
    {
      "cell_type": "code",
      "metadata": {
        "id": "o-wKMe0P5l5r",
        "colab_type": "code",
        "colab": {}
      },
      "source": [
        "['Arrival at Pickup - Weekday (Mo = 1)', 'Arrival at Pickup - Time']\n",
        "\n",
        "Index(['Order No', 'User Id', 'Vehicle Type', 'Platform Type',\n",
        "       'Personal or Business', 'Placement - Day of Month',\n",
        "       'Placement - Weekday (Mo = 1)', 'Placement - Time',\n",
        "       'Confirmation - Day of Month', 'Confirmation - Weekday (Mo = 1)',\n",
        "       'Confirmation - Time', 'Arrival at Pickup - Day of Month',\n",
        "       'Arrival at Pickup - Weekday (Mo = 1)', 'Arrival at Pickup - Time',\n",
        "       'Pickup - Day of Month', 'Pickup - Weekday (Mo = 1)', 'Pickup - Time',\n",
        "       'Arrival at Destination - Day of Month',\n",
        "       'Arrival at Destination - Weekday (Mo = 1)',\n",
        "       'Arrival at Destination - Time', 'Rider Id']"
      ],
      "execution_count": 0,
      "outputs": []
    },
    {
      "cell_type": "code",
      "metadata": {
        "id": "6aAOllkw5l5t",
        "colab_type": "code",
        "colab": {}
      },
      "source": [
        "# 13\n",
        "plot_var = 'Arrival at Pickup - Weekday (Mo = 1)'\n",
        "plt.hist(merged_train_rider_dtype[plot_var])\n",
        "plt.xlabel(plot_var)\n",
        "plt.ylabel('Number of deliveries')\n",
        "plt.show()"
      ],
      "execution_count": 0,
      "outputs": []
    },
    {
      "cell_type": "code",
      "metadata": {
        "id": "e36-7o1k5l5v",
        "colab_type": "code",
        "colab": {}
      },
      "source": [
        "# 14\n",
        "plot_var = 'Arrival at Pickup - Time'\n",
        "plt.hist(merged_train_rider_dtype[plot_var])\n",
        "plt.xlabel(plot_var)\n",
        "plt.ylabel('Number of deliveries')\n",
        "plt.show()"
      ],
      "execution_count": 0,
      "outputs": []
    },
    {
      "cell_type": "code",
      "metadata": {
        "id": "J2s1QU2m5l5x",
        "colab_type": "code",
        "colab": {}
      },
      "source": [
        "['Pickup - Day of Month', 'Pickup - Weekday (Mo = 1)', 'Pickup - Time']"
      ],
      "execution_count": 0,
      "outputs": []
    },
    {
      "cell_type": "code",
      "metadata": {
        "id": "acNkBbu55l51",
        "colab_type": "code",
        "colab": {}
      },
      "source": [
        "# 15\n",
        "plot_var = 'Pickup - Day of Month'\n",
        "plt.hist(merged_train_rider_dtype[plot_var])\n",
        "plt.xlabel(plot_var)\n",
        "plt.ylabel('Number of deliveries')\n",
        "plt.show()"
      ],
      "execution_count": 0,
      "outputs": []
    },
    {
      "cell_type": "code",
      "metadata": {
        "id": "6iAmR9PJ5l53",
        "colab_type": "code",
        "colab": {}
      },
      "source": [
        "# 16\n",
        "plot_var = 'Pickup - Weekday (Mo = 1)'\n",
        "plt.hist(merged_train_rider_dtype[plot_var])\n",
        "plt.xlabel(plot_var)\n",
        "plt.ylabel('Number of deliveries')\n",
        "plt.show()"
      ],
      "execution_count": 0,
      "outputs": []
    },
    {
      "cell_type": "code",
      "metadata": {
        "id": "hqaS9LWh5l55",
        "colab_type": "code",
        "colab": {}
      },
      "source": [
        "# 17\n",
        "plot_var = 'Pickup - Time'\n",
        "plt.hist(merged_train_rider_dtype[plot_var])\n",
        "plt.xlabel(plot_var)\n",
        "plt.ylabel('Number of deliveries')\n",
        "plt.show()"
      ],
      "execution_count": 0,
      "outputs": []
    },
    {
      "cell_type": "code",
      "metadata": {
        "id": "a0S8xTyZ5l57",
        "colab_type": "code",
        "colab": {}
      },
      "source": [
        "['Arrival at Destination - Day of Month',\n",
        "       'Arrival at Destination - Weekday (Mo = 1)',\n",
        "       'Arrival at Destination - Time', 'Rider Id']"
      ],
      "execution_count": 0,
      "outputs": []
    },
    {
      "cell_type": "code",
      "metadata": {
        "id": "Xe1NPPKT5l59",
        "colab_type": "code",
        "colab": {}
      },
      "source": [
        "# 18\n",
        "plot_var = 'Arrival at Destination - Day of Month'\n",
        "plt.hist(merged_train_rider_dtype[plot_var])\n",
        "plt.xlabel(plot_var)\n",
        "plt.ylabel('Number of deliveries')\n",
        "plt.show()"
      ],
      "execution_count": 0,
      "outputs": []
    },
    {
      "cell_type": "code",
      "metadata": {
        "id": "BvvZFiIv5l5-",
        "colab_type": "code",
        "colab": {}
      },
      "source": [
        "# 19\n",
        "plot_var = 'Arrival at Destination - Weekday (Mo = 1)'\n",
        "plt.hist(merged_train_rider_dtype[plot_var])\n",
        "plt.xlabel(plot_var)\n",
        "plt.ylabel('Number of deliveries')\n",
        "plt.show()"
      ],
      "execution_count": 0,
      "outputs": []
    },
    {
      "cell_type": "code",
      "metadata": {
        "id": "Fr0OrE9z5l6B",
        "colab_type": "code",
        "colab": {}
      },
      "source": [
        "# 20\n",
        "plot_var = 'Arrival at Destination - Time', \n",
        "plt.hist(merged_train_rider_dtype[plot_var])\n",
        "plt.xlabel(plot_var)\n",
        "plt.ylabel('Number of deliveries')\n",
        "plt.show()"
      ],
      "execution_count": 0,
      "outputs": []
    },
    {
      "cell_type": "code",
      "metadata": {
        "id": "UZzYzHqq5l6D",
        "colab_type": "code",
        "colab": {}
      },
      "source": [
        "# 21\n",
        "plot_var = 'Rider Id'\n",
        "plt.hist(merged_train_rider_dtype[plot_var])\n",
        "plt.xlabel(plot_var)\n",
        "plt.ylabel('Number of deliveries')\n",
        "plt.show()"
      ],
      "execution_count": 0,
      "outputs": []
    },
    {
      "cell_type": "code",
      "metadata": {
        "id": "pv9fGvDt5l6E",
        "colab_type": "code",
        "colab": {}
      },
      "source": [
        ""
      ],
      "execution_count": 0,
      "outputs": []
    },
    {
      "cell_type": "code",
      "metadata": {
        "id": "rFdSxVyh5l6G",
        "colab_type": "code",
        "colab": {}
      },
      "source": [
        ""
      ],
      "execution_count": 0,
      "outputs": []
    },
    {
      "cell_type": "code",
      "metadata": {
        "id": "m9nsdmFp5l6I",
        "colab_type": "code",
        "colab": {}
      },
      "source": [
        ""
      ],
      "execution_count": 0,
      "outputs": []
    },
    {
      "cell_type": "code",
      "metadata": {
        "id": "oMmnkKKK5l6J",
        "colab_type": "code",
        "colab": {}
      },
      "source": [
        "# #initialise sub-plot\n",
        "# fig, axs = plt.subplots(2,3, figsize=(10,6),) # define sub-plot dimensions\n",
        "# # fig.subplots_adjust(hspace = 0.5, wspace=.2) # adjust space\n",
        "# axs = axs.ravel() #flatten sub-plote axes array\n",
        "\n",
        "# for index, column in enumerate(['Order No', 'User Id', 'Vehicle Type', 'Platform Type',\n",
        "#        'Personal or Business', 'Placement - Day of Month']):\n",
        "#     # set title\n",
        "#     axs[index].set_title(f'{format(column)}',fontsize=16)\n",
        "    \n",
        "#     # set axis labels\n",
        "#     axs[index].set_xlabel(f'{column}')\n",
        "    \n",
        "#     # plot Histogram\n",
        "#     axs[index].hist(merged_train_rider_dtype[column])\n",
        "    \n",
        "# #     if index in [1, 6, 11, 16, 21]:\n",
        "# #         axs[index].set_ylabel(f'Number of deliveries')\n",
        "    \n",
        "# fig.tight_layout(pad=1)\n",
        "# plt.show()"
      ],
      "execution_count": 0,
      "outputs": []
    },
    {
      "cell_type": "code",
      "metadata": {
        "id": "TA07I9ES5l6L",
        "colab_type": "code",
        "colab": {}
      },
      "source": [
        "# Create correlation matrix\n",
        "corr = merged_train_rider_dtype.drop(['Time from Pickup to Arrival'], axis=1).corr()"
      ],
      "execution_count": 0,
      "outputs": []
    },
    {
      "cell_type": "code",
      "metadata": {
        "id": "QdMtYxaM5l6N",
        "colab_type": "code",
        "colab": {}
      },
      "source": [
        "# import function to plot correlation matrix\n",
        "from statsmodels.graphics.correlation import plot_corr"
      ],
      "execution_count": 0,
      "outputs": []
    },
    {
      "cell_type": "code",
      "metadata": {
        "id": "RbFMsEnh5l6P",
        "colab_type": "code",
        "colab": {}
      },
      "source": [
        ""
      ],
      "execution_count": 0,
      "outputs": []
    }
  ]
}